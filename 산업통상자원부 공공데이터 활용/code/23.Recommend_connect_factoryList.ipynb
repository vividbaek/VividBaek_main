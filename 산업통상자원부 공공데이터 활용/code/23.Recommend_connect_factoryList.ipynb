{
 "cells": [
  {
   "cell_type": "code",
   "execution_count": 4,
   "metadata": {},
   "outputs": [],
   "source": [
    "import pandas as pd"
   ]
  },
  {
   "cell_type": "code",
   "execution_count": 5,
   "metadata": {},
   "outputs": [],
   "source": [
    "total = pd.read_csv('./Factory_total.csv')\n",
    "total = total.replace('\\n', ' ', regex=True)"
   ]
  },
  {
   "cell_type": "code",
   "execution_count": 6,
   "metadata": {},
   "outputs": [
    {
     "data": {
      "text/html": [
       "<div>\n",
       "<style scoped>\n",
       "    .dataframe tbody tr th:only-of-type {\n",
       "        vertical-align: middle;\n",
       "    }\n",
       "\n",
       "    .dataframe tbody tr th {\n",
       "        vertical-align: top;\n",
       "    }\n",
       "\n",
       "    .dataframe thead th {\n",
       "        text-align: right;\n",
       "    }\n",
       "</style>\n",
       "<table border=\"1\" class=\"dataframe\">\n",
       "  <thead>\n",
       "    <tr style=\"text-align: right;\">\n",
       "      <th></th>\n",
       "      <th>매물위치(1)</th>\n",
       "      <th>매물위치(2)</th>\n",
       "      <th>매물위치(3)</th>\n",
       "      <th>종류/장점</th>\n",
       "      <th>제목</th>\n",
       "      <th>상태</th>\n",
       "      <th>가격</th>\n",
       "      <th>면적</th>\n",
       "      <th>방식</th>\n",
       "      <th>참고</th>\n",
       "      <th>조회수</th>\n",
       "      <th>매물위치(url)</th>\n",
       "    </tr>\n",
       "  </thead>\n",
       "  <tbody>\n",
       "    <tr>\n",
       "      <th>0</th>\n",
       "      <td>충청남도</td>\n",
       "      <td>공주시</td>\n",
       "      <td>이인면</td>\n",
       "      <td>토지-공장.창고부지</td>\n",
       "      <td>남공주일반산업단지 산업시설용지 5,000평 분양가 전매(급매각..</td>\n",
       "      <td>진행</td>\n",
       "      <td>394,000만원</td>\n",
       "      <td>대지 : 16,300㎡ (4,931평) 건물 : 1㎡ (0평)</td>\n",
       "      <td>매매</td>\n",
       "      <td>2. 사통팔달의 교통망  고속도로 : 천안논산, 당진대전, 서울..</td>\n",
       "      <td>12</td>\n",
       "      <td>http://www.okfactory.com/main/estat_view.php?b...</td>\n",
       "    </tr>\n",
       "    <tr>\n",
       "      <th>1</th>\n",
       "      <td>경기도</td>\n",
       "      <td>안산시</td>\n",
       "      <td>단원구</td>\n",
       "      <td>공장-16.33 기타소형/일반</td>\n",
       "      <td>반월공단 500평대 최저가 매물 35억. 건물 230평..</td>\n",
       "      <td>진행</td>\n",
       "      <td>350,000만원</td>\n",
       "      <td>대지 : 1,665㎡ (504평) 건물 : 760㎡ (230평)</td>\n",
       "      <td>매매</td>\n",
       "      <td>대기, 폣수 허가권 등은 매매가에서 별도.  현재 염색단지 , 이..</td>\n",
       "      <td>19</td>\n",
       "      <td>http://www.okfactory.com/main/estat_view.php?b...</td>\n",
       "    </tr>\n",
       "    <tr>\n",
       "      <th>2</th>\n",
       "      <td>충청남도</td>\n",
       "      <td>아산시</td>\n",
       "      <td>둔포면</td>\n",
       "      <td>공장-26 반도체/크린룸</td>\n",
       "      <td>아산일반산단내 중대형 크린룸 장비업종 통공장 및 분할 임대..</td>\n",
       "      <td>진행</td>\n",
       "      <td>1,100,000만원 5,000만원</td>\n",
       "      <td>대지 : 6,200㎡ (1,876평) 건물 : 4,000㎡ (1,210평)</td>\n",
       "      <td>매매, 월세</td>\n",
       "      <td>중소형 반도체 장비 등 업종 추천  층고 9미터 , 공장 2동..</td>\n",
       "      <td>23</td>\n",
       "      <td>http://www.okfactory.com/main/estat_view.php?b...</td>\n",
       "    </tr>\n",
       "  </tbody>\n",
       "</table>\n",
       "</div>"
      ],
      "text/plain": [
       "  매물위치(1) 매물위치(2) 매물위치(3)             종류/장점  \\\n",
       "0    충청남도     공주시     이인면        토지-공장.창고부지   \n",
       "1     경기도     안산시     단원구  공장-16.33 기타소형/일반   \n",
       "2    충청남도     아산시     둔포면     공장-26 반도체/크린룸   \n",
       "\n",
       "                                     제목  상태                   가격  \\\n",
       "0  남공주일반산업단지 산업시설용지 5,000평 분양가 전매(급매각..  진행            394,000만원   \n",
       "1      반월공단 500평대 최저가 매물 35억. 건물 230평..  진행            350,000만원   \n",
       "2    아산일반산단내 중대형 크린룸 장비업종 통공장 및 분할 임대..  진행  1,100,000만원 5,000만원   \n",
       "\n",
       "                                          면적      방식  \\\n",
       "0         대지 : 16,300㎡ (4,931평) 건물 : 1㎡ (0평)      매매   \n",
       "1        대지 : 1,665㎡ (504평) 건물 : 760㎡ (230평)      매매   \n",
       "2  대지 : 6,200㎡ (1,876평) 건물 : 4,000㎡ (1,210평)  매매, 월세   \n",
       "\n",
       "                                       참고 조회수  \\\n",
       "0  2. 사통팔달의 교통망  고속도로 : 천안논산, 당진대전, 서울..  12   \n",
       "1  대기, 폣수 허가권 등은 매매가에서 별도.  현재 염색단지 , 이..  19   \n",
       "2    중소형 반도체 장비 등 업종 추천  층고 9미터 , 공장 2동..  23   \n",
       "\n",
       "                                           매물위치(url)  \n",
       "0  http://www.okfactory.com/main/estat_view.php?b...  \n",
       "1  http://www.okfactory.com/main/estat_view.php?b...  \n",
       "2  http://www.okfactory.com/main/estat_view.php?b...  "
      ]
     },
     "execution_count": 6,
     "metadata": {},
     "output_type": "execute_result"
    }
   ],
   "source": [
    "total.head(3)"
   ]
  },
  {
   "cell_type": "code",
   "execution_count": 7,
   "metadata": {},
   "outputs": [
    {
     "data": {
      "text/plain": [
       "(5670, 12)"
      ]
     },
     "execution_count": 7,
     "metadata": {},
     "output_type": "execute_result"
    }
   ],
   "source": [
    "total.shape"
   ]
  },
  {
   "cell_type": "code",
   "execution_count": 8,
   "metadata": {},
   "outputs": [],
   "source": [
    "total_ing = total[total['상태'] == '진행']"
   ]
  },
  {
   "cell_type": "code",
   "execution_count": 9,
   "metadata": {},
   "outputs": [
    {
     "data": {
      "text/plain": [
       "(2105, 12)"
      ]
     },
     "execution_count": 9,
     "metadata": {},
     "output_type": "execute_result"
    }
   ],
   "source": [
    "total_ing.shape"
   ]
  },
  {
   "cell_type": "code",
   "execution_count": 10,
   "metadata": {},
   "outputs": [
    {
     "data": {
      "text/plain": [
       "경기도        1638\n",
       "충청남도        109\n",
       "충청북도         64\n",
       "경상남도         58\n",
       "경상북도         57\n",
       "인천광역시        33\n",
       "서울특별시        26\n",
       "전북특별자치도      26\n",
       "부산광역시        24\n",
       "강원특별자치도      22\n",
       "전라남도         20\n",
       "대구광역시         9\n",
       "대전광역시         7\n",
       "세종특별자치시       5\n",
       "제주특별자치도       4\n",
       "울산광역시         2\n",
       "광주광역시         1\n",
       "Name: 매물위치(1), dtype: int64"
      ]
     },
     "execution_count": 10,
     "metadata": {},
     "output_type": "execute_result"
    }
   ],
   "source": [
    "total_ing['매물위치(1)'].value_counts()"
   ]
  },
  {
   "cell_type": "code",
   "execution_count": 11,
   "metadata": {},
   "outputs": [
    {
     "data": {
      "text/plain": [
       "단원구     412\n",
       "정왕동     392\n",
       "장안면      86\n",
       "마도면      55\n",
       "팔탄면      51\n",
       "       ... \n",
       "왕궁면       1\n",
       "등촌동       1\n",
       "청덕면       1\n",
       "노온사동      1\n",
       "산곡동       1\n",
       "Name: 매물위치(3), Length: 486, dtype: int64"
      ]
     },
     "execution_count": 11,
     "metadata": {},
     "output_type": "execute_result"
    }
   ],
   "source": [
    "total_ing['매물위치(3)'].value_counts()"
   ]
  },
  {
   "attachments": {},
   "cell_type": "markdown",
   "metadata": {},
   "source": [
    "### 유저한테 시, 구 추천받아서 매물 보여주기!"
   ]
  },
  {
   "cell_type": "code",
   "execution_count": 12,
   "metadata": {},
   "outputs": [
    {
     "data": {
      "text/plain": [
       "array(['충청남도', '경기도', '충청북도', '인천광역시', '경상북도', '강원특별자치도', '전라남도', '경상남도',\n",
       "       '대전광역시', '부산광역시', '서울특별시', '전북특별자치도', '울산광역시', '제주특별자치도',\n",
       "       '세종특별자치시', '대구광역시', '광주광역시'], dtype=object)"
      ]
     },
     "execution_count": 12,
     "metadata": {},
     "output_type": "execute_result"
    }
   ],
   "source": [
    "total['매물위치(1)'].unique()"
   ]
  },
  {
   "cell_type": "code",
   "execution_count": 16,
   "metadata": {},
   "outputs": [],
   "source": [
    "local_gu = '단원구'"
   ]
  },
  {
   "cell_type": "code",
   "execution_count": 13,
   "metadata": {},
   "outputs": [],
   "source": [
    "local_goverment = '경기도'"
   ]
  },
  {
   "cell_type": "code",
   "execution_count": 19,
   "metadata": {},
   "outputs": [],
   "source": [
    "total_check = total_ing[(total_ing['매물위치(3)'] == local_gu) & (total_ing['매물위치(1)'] == local_goverment)]\n",
    "total_check.to_csv(f'./Recommend_factory_result_{local_gu}_{local_goverment}.csv', encoding='cp949', index=False)\n"
   ]
  },
  {
   "cell_type": "code",
   "execution_count": 15,
   "metadata": {},
   "outputs": [
    {
     "data": {
      "text/html": [
       "<div>\n",
       "<style scoped>\n",
       "    .dataframe tbody tr th:only-of-type {\n",
       "        vertical-align: middle;\n",
       "    }\n",
       "\n",
       "    .dataframe tbody tr th {\n",
       "        vertical-align: top;\n",
       "    }\n",
       "\n",
       "    .dataframe thead th {\n",
       "        text-align: right;\n",
       "    }\n",
       "</style>\n",
       "<table border=\"1\" class=\"dataframe\">\n",
       "  <thead>\n",
       "    <tr style=\"text-align: right;\">\n",
       "      <th></th>\n",
       "      <th>매물위치(1)</th>\n",
       "      <th>매물위치(2)</th>\n",
       "      <th>매물위치(3)</th>\n",
       "      <th>종류/장점</th>\n",
       "      <th>제목</th>\n",
       "      <th>상태</th>\n",
       "      <th>가격</th>\n",
       "      <th>면적</th>\n",
       "      <th>방식</th>\n",
       "      <th>참고</th>\n",
       "      <th>조회수</th>\n",
       "      <th>매물위치(url)</th>\n",
       "    </tr>\n",
       "  </thead>\n",
       "  <tbody>\n",
       "    <tr>\n",
       "      <th>1</th>\n",
       "      <td>경기도</td>\n",
       "      <td>안산시</td>\n",
       "      <td>단원구</td>\n",
       "      <td>공장-16.33 기타소형/일반</td>\n",
       "      <td>반월공단 500평대 최저가 매물 35억. 건물 230평..</td>\n",
       "      <td>진행</td>\n",
       "      <td>350,000만원</td>\n",
       "      <td>대지 : 1,665㎡ (504평) 건물 : 760㎡ (230평)</td>\n",
       "      <td>매매</td>\n",
       "      <td>대기, 폣수 허가권 등은 매매가에서 별도.  현재 염색단지 , 이..</td>\n",
       "      <td>19</td>\n",
       "      <td>http://www.okfactory.com/main/estat_view.php?b...</td>\n",
       "    </tr>\n",
       "    <tr>\n",
       "      <th>4</th>\n",
       "      <td>경기도</td>\n",
       "      <td>안산시</td>\n",
       "      <td>단원구</td>\n",
       "      <td>공장-26 PCB/전자부품</td>\n",
       "      <td>반월공단 PCB크린룸 단독공장 임대 [대지 790평, 건물 연..</td>\n",
       "      <td>진행</td>\n",
       "      <td>1,600만원</td>\n",
       "      <td>대지 : 2,610㎡ (790평) 건물 : 1,717㎡ (519평)</td>\n",
       "      <td>월세</td>\n",
       "      <td>처마높이 4미터 , 승강기 설치 PCB 제조공장. 대기 4종, 수질 4..</td>\n",
       "      <td>28</td>\n",
       "      <td>http://www.okfactory.com/main/estat_view.php?b...</td>\n",
       "    </tr>\n",
       "    <tr>\n",
       "      <th>10</th>\n",
       "      <td>경기도</td>\n",
       "      <td>안산시</td>\n",
       "      <td>단원구</td>\n",
       "      <td>공장-29.30 기계장비/자동차</td>\n",
       "      <td>반월공단 대로변, 서안산/남안산Ic 인근 신축공장 5톤, 14..</td>\n",
       "      <td>진행</td>\n",
       "      <td>385만원</td>\n",
       "      <td>대지 : 620㎡ (188평) 건물 : 463㎡ (140평)</td>\n",
       "      <td>월세</td>\n",
       "      <td>현시설물 상태로 임대 한다.  관리비 월 14만원...</td>\n",
       "      <td>53</td>\n",
       "      <td>http://www.okfactory.com/main/estat_view.php?b...</td>\n",
       "    </tr>\n",
       "    <tr>\n",
       "      <th>33</th>\n",
       "      <td>경기도</td>\n",
       "      <td>안산시</td>\n",
       "      <td>단원구</td>\n",
       "      <td>공장-29.30 금형/사출</td>\n",
       "      <td>반월 시우역 인근 다이캐스팅/아노다이징 공장 [대 500평, ..</td>\n",
       "      <td>진행</td>\n",
       "      <td>410,000만원</td>\n",
       "      <td>대지 : 1,653㎡ (500평) 건물 : 4,509㎡ (1,364평)</td>\n",
       "      <td>매매</td>\n",
       "      <td>경사로 된 진입로 조건.</td>\n",
       "      <td>63</td>\n",
       "      <td>http://www.okfactory.com/main/estat_view.php?b...</td>\n",
       "    </tr>\n",
       "    <tr>\n",
       "      <th>36</th>\n",
       "      <td>경기도</td>\n",
       "      <td>안산시</td>\n",
       "      <td>단원구</td>\n",
       "      <td>기타-상가점포.근생</td>\n",
       "      <td>대부도 대로변 숯불생선구이 주차장 넓은 1층 식당 60평. 매..</td>\n",
       "      <td>진행</td>\n",
       "      <td>10,000만원 250만원</td>\n",
       "      <td>건물 : 199㎡ (60평)</td>\n",
       "      <td>매매, 월세</td>\n",
       "      <td>대부도 대로변 숯불생선구이 주차장 넓은 1층 식당 60평.  시설비..</td>\n",
       "      <td>82</td>\n",
       "      <td>http://www.okfactory.com/main/estat_view.php?b...</td>\n",
       "    </tr>\n",
       "    <tr>\n",
       "      <th>...</th>\n",
       "      <td>...</td>\n",
       "      <td>...</td>\n",
       "      <td>...</td>\n",
       "      <td>...</td>\n",
       "      <td>...</td>\n",
       "      <td>...</td>\n",
       "      <td>...</td>\n",
       "      <td>...</td>\n",
       "      <td>...</td>\n",
       "      <td>...</td>\n",
       "      <td>...</td>\n",
       "      <td>...</td>\n",
       "    </tr>\n",
       "    <tr>\n",
       "      <th>4551</th>\n",
       "      <td>경기도</td>\n",
       "      <td>안산시</td>\n",
       "      <td>단원구</td>\n",
       "      <td>공장-지식산업.아파트형</td>\n",
       "      <td>지식산업센터 타원타크라TAKRA 1차 임대..</td>\n",
       "      <td>진행</td>\n",
       "      <td>200만원</td>\n",
       "      <td>대지 : 331㎡ (100평) 건물 : 208㎡ (63평)</td>\n",
       "      <td>월세</td>\n",
       "      <td>권장업종 : 은행. 편의점. 커피숍. 전문식당가. 유통판매시설 P...</td>\n",
       "      <td>3969</td>\n",
       "      <td>http://www.okfactory.com/main/estat_view.php?b...</td>\n",
       "    </tr>\n",
       "    <tr>\n",
       "      <th>4615</th>\n",
       "      <td>경기도</td>\n",
       "      <td>안산시</td>\n",
       "      <td>단원구</td>\n",
       "      <td>공장-16.33 기타소형/일반</td>\n",
       "      <td>반월공단 소형공장 70평 임대 [2층, 1만/평, 관리비 1,..</td>\n",
       "      <td>진행</td>\n",
       "      <td>70만원</td>\n",
       "      <td>대지 : 300㎡ (91평) 건물 : 231㎡ (70평)</td>\n",
       "      <td>월세</td>\n",
       "      <td>반월공단 소형공장 70평 임대 [2층, 1만/평, 관리비 1,500원/평..</td>\n",
       "      <td>383</td>\n",
       "      <td>http://www.okfactory.com/main/estat_view.php?b...</td>\n",
       "    </tr>\n",
       "    <tr>\n",
       "      <th>5224</th>\n",
       "      <td>경기도</td>\n",
       "      <td>안산시</td>\n",
       "      <td>단원구</td>\n",
       "      <td>교통환경_전철역이 가깝습니다.</td>\n",
       "      <td>총14층 / 4층 방수 0개</td>\n",
       "      <td>진행</td>\n",
       "      <td>매:28,000만</td>\n",
       "      <td>연  : 196.74㎡ 토지 : 28.66㎡</td>\n",
       "      <td>매:28,000만</td>\n",
       "      <td>주차 가능</td>\n",
       "      <td>2023-11-24 81</td>\n",
       "      <td>https://www.bd119.com/realty/realty_detail.asp...</td>\n",
       "    </tr>\n",
       "    <tr>\n",
       "      <th>5317</th>\n",
       "      <td>경기도</td>\n",
       "      <td>안산시</td>\n",
       "      <td>단원구</td>\n",
       "      <td>도로망_도로가 가깝습니다.</td>\n",
       "      <td>총7층 / 5층 방수 0개</td>\n",
       "      <td>진행</td>\n",
       "      <td>보:1,800만 월:180만</td>\n",
       "      <td>연  : 335.08㎡ 토지 : 66.16㎡</td>\n",
       "      <td>보:1,800만 월:180만</td>\n",
       "      <td>주차 가능</td>\n",
       "      <td>2022-11-24 690</td>\n",
       "      <td>https://www.bd119.com/realty/realty_detail.asp...</td>\n",
       "    </tr>\n",
       "    <tr>\n",
       "      <th>5391</th>\n",
       "      <td>경기도</td>\n",
       "      <td>안산시</td>\n",
       "      <td>단원구</td>\n",
       "      <td>기업공장_산업단지가 가깝습니다.</td>\n",
       "      <td>총3층 / 1층 방수 0개</td>\n",
       "      <td>진행</td>\n",
       "      <td>매:75,000만</td>\n",
       "      <td>연  : 183.97㎡ 토지 : 253.52㎡</td>\n",
       "      <td>매:75,000만</td>\n",
       "      <td>주차 가능</td>\n",
       "      <td>2021-11-18 2741</td>\n",
       "      <td>https://www.bd119.com/realty/realty_detail.asp...</td>\n",
       "    </tr>\n",
       "  </tbody>\n",
       "</table>\n",
       "<p>412 rows × 12 columns</p>\n",
       "</div>"
      ],
      "text/plain": [
       "     매물위치(1) 매물위치(2) 매물위치(3)              종류/장점  \\\n",
       "1        경기도     안산시     단원구   공장-16.33 기타소형/일반   \n",
       "4        경기도     안산시     단원구     공장-26 PCB/전자부품   \n",
       "10       경기도     안산시     단원구  공장-29.30 기계장비/자동차   \n",
       "33       경기도     안산시     단원구     공장-29.30 금형/사출   \n",
       "36       경기도     안산시     단원구         기타-상가점포.근생   \n",
       "...      ...     ...     ...                ...   \n",
       "4551     경기도     안산시     단원구       공장-지식산업.아파트형   \n",
       "4615     경기도     안산시     단원구   공장-16.33 기타소형/일반   \n",
       "5224     경기도     안산시     단원구   교통환경_전철역이 가깝습니다.   \n",
       "5317     경기도     안산시     단원구     도로망_도로가 가깝습니다.   \n",
       "5391     경기도     안산시     단원구  기업공장_산업단지가 가깝습니다.   \n",
       "\n",
       "                                        제목  상태               가격  \\\n",
       "1         반월공단 500평대 최저가 매물 35억. 건물 230평..  진행        350,000만원   \n",
       "4     반월공단 PCB크린룸 단독공장 임대 [대지 790평, 건물 연..  진행          1,600만원   \n",
       "10    반월공단 대로변, 서안산/남안산Ic 인근 신축공장 5톤, 14..  진행            385만원   \n",
       "33    반월 시우역 인근 다이캐스팅/아노다이징 공장 [대 500평, ..  진행        410,000만원   \n",
       "36    대부도 대로변 숯불생선구이 주차장 넓은 1층 식당 60평. 매..  진행   10,000만원 250만원   \n",
       "...                                    ...  ..              ...   \n",
       "4551             지식산업센터 타원타크라TAKRA 1차 임대..  진행            200만원   \n",
       "4615  반월공단 소형공장 70평 임대 [2층, 1만/평, 관리비 1,..  진행             70만원   \n",
       "5224                       총14층 / 4층 방수 0개  진행        매:28,000만   \n",
       "5317                        총7층 / 5층 방수 0개  진행  보:1,800만 월:180만   \n",
       "5391                        총3층 / 1층 방수 0개  진행        매:75,000만   \n",
       "\n",
       "                                           면적               방식  \\\n",
       "1         대지 : 1,665㎡ (504평) 건물 : 760㎡ (230평)               매매   \n",
       "4       대지 : 2,610㎡ (790평) 건물 : 1,717㎡ (519평)               월세   \n",
       "10          대지 : 620㎡ (188평) 건물 : 463㎡ (140평)               월세   \n",
       "33    대지 : 1,653㎡ (500평) 건물 : 4,509㎡ (1,364평)               매매   \n",
       "36                            건물 : 199㎡ (60평)           매매, 월세   \n",
       "...                                       ...              ...   \n",
       "4551         대지 : 331㎡ (100평) 건물 : 208㎡ (63평)               월세   \n",
       "4615          대지 : 300㎡ (91평) 건물 : 231㎡ (70평)               월세   \n",
       "5224                 연  : 196.74㎡ 토지 : 28.66㎡        매:28,000만   \n",
       "5317                 연  : 335.08㎡ 토지 : 66.16㎡  보:1,800만 월:180만   \n",
       "5391                연  : 183.97㎡ 토지 : 253.52㎡        매:75,000만   \n",
       "\n",
       "                                              참고              조회수  \\\n",
       "1         대기, 폣수 허가권 등은 매매가에서 별도.  현재 염색단지 , 이..               19   \n",
       "4      처마높이 4미터 , 승강기 설치 PCB 제조공장. 대기 4종, 수질 4..               28   \n",
       "10                현시설물 상태로 임대 한다.  관리비 월 14만원...               53   \n",
       "33                                 경사로 된 진입로 조건.               63   \n",
       "36       대부도 대로변 숯불생선구이 주차장 넓은 1층 식당 60평.  시설비..               82   \n",
       "...                                          ...              ...   \n",
       "4551     권장업종 : 은행. 편의점. 커피숍. 전문식당가. 유통판매시설 P...             3969   \n",
       "4615  반월공단 소형공장 70평 임대 [2층, 1만/평, 관리비 1,500원/평..              383   \n",
       "5224                                       주차 가능    2023-11-24 81   \n",
       "5317                                       주차 가능   2022-11-24 690   \n",
       "5391                                       주차 가능  2021-11-18 2741   \n",
       "\n",
       "                                              매물위치(url)  \n",
       "1     http://www.okfactory.com/main/estat_view.php?b...  \n",
       "4     http://www.okfactory.com/main/estat_view.php?b...  \n",
       "10    http://www.okfactory.com/main/estat_view.php?b...  \n",
       "33    http://www.okfactory.com/main/estat_view.php?b...  \n",
       "36    http://www.okfactory.com/main/estat_view.php?b...  \n",
       "...                                                 ...  \n",
       "4551  http://www.okfactory.com/main/estat_view.php?b...  \n",
       "4615  http://www.okfactory.com/main/estat_view.php?b...  \n",
       "5224  https://www.bd119.com/realty/realty_detail.asp...  \n",
       "5317  https://www.bd119.com/realty/realty_detail.asp...  \n",
       "5391  https://www.bd119.com/realty/realty_detail.asp...  \n",
       "\n",
       "[412 rows x 12 columns]"
      ]
     },
     "execution_count": 15,
     "metadata": {},
     "output_type": "execute_result"
    }
   ],
   "source": [
    "total_check"
   ]
  },
  {
   "cell_type": "code",
   "execution_count": null,
   "metadata": {},
   "outputs": [],
   "source": []
  }
 ],
 "metadata": {
  "kernelspec": {
   "display_name": "base",
   "language": "python",
   "name": "python3"
  },
  "language_info": {
   "codemirror_mode": {
    "name": "ipython",
    "version": 3
   },
   "file_extension": ".py",
   "mimetype": "text/x-python",
   "name": "python",
   "nbconvert_exporter": "python",
   "pygments_lexer": "ipython3",
   "version": "3.11.7"
  },
  "orig_nbformat": 4
 },
 "nbformat": 4,
 "nbformat_minor": 2
}
