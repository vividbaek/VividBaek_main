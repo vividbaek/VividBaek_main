{
 "cells": [
  {
   "cell_type": "code",
   "execution_count": 1,
   "metadata": {},
   "outputs": [],
   "source": [
    "import requests\n",
    "import yaml\n",
    "import xml.etree.ElementTree as ET"
   ]
  },
  {
   "attachments": {},
   "cell_type": "markdown",
   "metadata": {},
   "source": [
    "### Config 통해서 service key값 가져오기"
   ]
  },
  {
   "cell_type": "code",
   "execution_count": 2,
   "metadata": {},
   "outputs": [],
   "source": [
    "# config.yaml 파일 경로\n",
    "config_path = r'C:\\Users\\vivid\\Desktop\\contest\\Config\\config.yaml'\n",
    "\n",
    "#yaml 파일 열기\n",
    "with open(config_path, 'r', encoding='utf-8') as file:\n",
    "    config = yaml.safe_load(file)\n",
    "\n",
    "#Service key가져오기\n",
    "service_key = config['ServiceKey']['AllServiceKey']"
   ]
  },
  {
   "attachments": {},
   "cell_type": "markdown",
   "metadata": {},
   "source": [
    "### 한국산업단지공단_공장등록생산정보조회서비스"
   ]
  },
  {
   "cell_type": "code",
   "execution_count": 3,
   "metadata": {},
   "outputs": [
    {
     "name": "stdout",
     "output_type": "stream",
     "text": [
      "Factory Manage No: 111400000000052, Company: 한음상사, Address: 서울특별시 중구 세종대로1길 3 (남대문로5가), Representative: 한도형\n",
      "Administrative Agency: 서울특별시 중구, Tel: 02-776-8776, Fax: 02-754-5515\n",
      "Employees: 9, Registration Date: 19920926, Industry: None\n",
      "Main Product: 보청기, Homepage: None\n",
      "---\n"
     ]
    }
   ],
   "source": [
    "url = 'http://apis.data.go.kr/B550624/fctryRegistPrdctnInfo/getFctryPrdctnService'\n",
    "params ={'serviceKey' : service_key, 'pageNo' : '', 'numOfRows' : '100', 'fctryManageNo' : '', 'cmpnyNm' : '한음상사', 'rprsntvNm' : '', 'mainProductCn' : '', 'adresCode' : '', 'adres' : '', 'type' : 'XML' }\n",
    "\n",
    "response = requests.get(url, params=params)\n",
    "\n",
    "root = ET.fromstring(response.text)\n",
    "\n",
    "for item in root.findall('.//item'):\n",
    "    fctryManageNo = item.find('fctryManageNo').text\n",
    "    cmpnyNm = item.find('cmpnyNm').text\n",
    "    rnAdres = item.find('rnAdres').text\n",
    "    rprsntvNm = item.find('rprsntvNm').text\n",
    "    cvplChrgOrgnztNm = item.find('cvplChrgOrgnztNm').text\n",
    "    cmpnyTelno = item.find('cmpnyTelno').text if item.find('cmpnyTelno') is not None else ''\n",
    "    cmpnyFxnum = item.find('cmpnyFxnum').text if item.find('cmpnyFxnum') is not None else ''\n",
    "    allEmplyCo = item.find('allEmplyCo').text\n",
    "    frstFctryRegistDe = item.find('frstFctryRegistDe').text\n",
    "    indutyNm = item.find('indutyNm').text\n",
    "    mainProductCn = item.find('mainProductCn').text\n",
    "    hmpadr = item.find('hmpadr').text if item.find('hmpadr') is not None else ''\n",
    "\n",
    "    print(f'Factory Manage No: {fctryManageNo}, Company: {cmpnyNm}, Address: {rnAdres}, Representative: {rprsntvNm}')\n",
    "    print(f'Administrative Agency: {cvplChrgOrgnztNm}, Tel: {cmpnyTelno}, Fax: {cmpnyFxnum}')\n",
    "    print(f'Employees: {allEmplyCo}, Registration Date: {frstFctryRegistDe}, Industry: {indutyNm}')\n",
    "    print(f'Main Product: {mainProductCn}, Homepage: {hmpadr}')\n",
    "    print('---')"
   ]
  },
  {
   "attachments": {},
   "cell_type": "markdown",
   "metadata": {},
   "source": [
    "### 한국산업단지공단_공장등록필지정보조회서비스"
   ]
  },
  {
   "cell_type": "code",
   "execution_count": 4,
   "metadata": {},
   "outputs": [],
   "source": [
    "url = 'http://apis.data.go.kr/B550624/fctryRegistLndpclInfo/getFctryLndpclService'\n",
    "params ={'serviceKey' : service_key, 'pageNo' : '1', 'numOfRows' : '10', 'fctryManageNo' : '', 'cmpnyNm' : '가방클럽닷컴', 'rprsntvNm' : '', 'mainProductCn' : '', 'adresCode' : '', 'adres' : '', 'type' : 'XML' }\n",
    "\n",
    "response = requests.get(url, params=params)\n",
    "\n",
    "root = ET.fromstring(response.text)\n",
    "\n",
    "for item in root.findall('.//item'):\n",
    "    fctryManageNo = item.find('fctryManageNo').text\n",
    "    cmpnyNm = item.find('cmpnyNm').text\n",
    "    rnAdres = item.find('rnAdres').text\n",
    "    rprsntvNm = item.find('rprsntvNm').text\n",
    "    cvplChrgOrgnztNm = item.find('cvplChrgOrgnztNm').text\n",
    "    cmpnyTelno = item.find('cmpnyTelno').text if item.find('cmpnyTelno') is not None else ''\n",
    "    fctryLndpclAr = item.find('fctryLndpclAr').text if item.find('fctryLndpclAr') is not None else ''\n",
    "    fctryDongBuldAr = item.find('fctryDongBuldAr').text if item.find('fctryDongBuldAr') is not None else ''\n",
    "    spfcSeCodeNm = item.find('spfcSeCodeNm').text if item.find('spfcSeCodeNm') is not None else ''\n",
    "    irsttNm = item.find('irsttNm').text if item.find('irsttNm') is not None else ''\n",
    "\n",
    "    print(f'Factory Manage No: {fctryManageNo}, Company: {cmpnyNm}, Address: {rnAdres}, Representative: {rprsntvNm}')\n",
    "    print(f'Administrative Agency: {cvplChrgOrgnztNm}, Tel: {cmpnyTelno}')\n",
    "    print(f'Factory Land Parcel Area: {fctryLndpclAr}, Factory Building Area: {fctryDongBuldAr}')\n",
    "    print(f'Specific Area Code: {spfcSeCodeNm}, Institution Name: {irsttNm}')\n",
    "    print('---')"
   ]
  },
  {
   "attachments": {},
   "cell_type": "markdown",
   "metadata": {},
   "source": [
    "### 한국산업단지공단(공장등록생산정보조회서비스) + 한국산업단지공단(공장등록필지정보조회서비스)\n",
    "- API를 활용해서 공장들 데이터 불러오기(중복 데이터는 하나로만 처리)"
   ]
  },
  {
   "cell_type": "code",
   "execution_count": 6,
   "metadata": {},
   "outputs": [
    {
     "name": "stdout",
     "output_type": "stream",
     "text": [
      "Factory Manage No: 111400000000052, Company: 한음상사, Address: 서울특별시 중구 세종대로1길 3 (남대문로5가), Representative: 한도형\n",
      "Administrative Agency: 서울특별시 중구, Tel: 02-776-8776, Fax: 02-754-5515\n",
      "Employees: 9, Registration Date: 19920926, Industry: None\n",
      "Main Product: 보청기, Homepage: None\n",
      "Factory Land Parcel Area: None, Factory Building Area: 138.840\n",
      "Specific Area Code: 도시지역/상업지역/일반상업지역, Institution Name: None\n",
      "---------------------------------------------------------------------------------\n"
     ]
    }
   ],
   "source": [
    "url1 = 'http://apis.data.go.kr/B550624/fctryRegistPrdctnInfo/getFctryPrdctnService'\n",
    "params1 = {\n",
    "    'serviceKey': service_key,\n",
    "    'pageNo': '1',\n",
    "    'numOfRows': '10',\n",
    "    'fctryManageNo': '',\n",
    "    'cmpnyNm': '한음상사',\n",
    "    'rprsntvNm': '',\n",
    "    'mainProductCn': '',\n",
    "    'adresCode': '',\n",
    "    'adres': '',\n",
    "    'type': 'XML'\n",
    "}\n",
    "\n",
    "# 두 번째 API 요청 URL 및 파라미터 설정\n",
    "url2 = 'http://apis.data.go.kr/B550624/fctryRegistLndpclInfo/getFctryLndpclService'\n",
    "params2 = {\n",
    "    'serviceKey': service_key,\n",
    "    'pageNo': '1',\n",
    "    'numOfRows': '10',\n",
    "    'fctryManageNo': '',\n",
    "    'cmpnyNm': '한음상사',\n",
    "    'rprsntvNm': '',\n",
    "    'mainProductCn': '',\n",
    "    'adresCode': '',\n",
    "    'adres': '',\n",
    "    'type': 'XML'\n",
    "}\n",
    "\n",
    "\n",
    "response1 = requests.get(url1, params=params1)\n",
    "root1 = ET.fromstring(response1.text)\n",
    "\n",
    "# 두 번째 API 요청 보내기\n",
    "response2 = requests.get(url2, params=params2)\n",
    "root2 = ET.fromstring(response2.text)\n",
    "\n",
    "# 첫 번째 API 응답에서 데이터 추출\n",
    "data1 = {}\n",
    "for item in root1.findall('.//item'):\n",
    "    fctryManageNo = item.find('fctryManageNo').text\n",
    "    data1[fctryManageNo] = {\n",
    "        'cmpnyNm': item.find('cmpnyNm').text,\n",
    "        'rnAdres': item.find('rnAdres').text,\n",
    "        'rprsntvNm': item.find('rprsntvNm').text,\n",
    "        'cvplChrgOrgnztNm': item.find('cvplChrgOrgnztNm').text,\n",
    "        'cmpnyTelno': item.find('cmpnyTelno').text if item.find('cmpnyTelno') is not None else '',\n",
    "        'cmpnyFxnum': item.find('cmpnyFxnum').text if item.find('cmpnyFxnum') is not None else '',\n",
    "        'allEmplyCo': item.find('allEmplyCo').text,\n",
    "        'frstFctryRegistDe': item.find('frstFctryRegistDe').text,\n",
    "        'indutyNm': item.find('indutyNm').text,\n",
    "        'mainProductCn': item.find('mainProductCn').text,\n",
    "        'hmpadr': item.find('hmpadr').text if item.find('hmpadr') is not None else ''\n",
    "    }\n",
    "\n",
    "# 두 번째 API 응답에서 데이터 추출\n",
    "for item in root2.findall('.//item'):\n",
    "    fctryManageNo = item.find('fctryManageNo').text\n",
    "    if fctryManageNo in data1:\n",
    "        data1[fctryManageNo].update({\n",
    "            'fctryLndpclAr': item.find('fctryLndpclAr').text if item.find('fctryLndpclAr') is not None else '',\n",
    "            'fctryDongBuldAr': item.find('fctryDongBuldAr').text if item.find('fctryDongBuldAr') is not None else '',\n",
    "            'spfcSeCodeNm': item.find('spfcSeCodeNm').text if item.find('spfcSeCodeNm') is not None else '',\n",
    "            'irsttNm': item.find('irsttNm').text if item.find('irsttNm') is not None else ''\n",
    "        })\n",
    "\n",
    "# 데이터 출력\n",
    "for fctryManageNo, info in data1.items():\n",
    "    print(f'Factory Manage No: {fctryManageNo}, Company: {info[\"cmpnyNm\"]}, Address: {info[\"rnAdres\"]}, Representative: {info[\"rprsntvNm\"]}')\n",
    "    print(f'Administrative Agency: {info[\"cvplChrgOrgnztNm\"]}, Tel: {info[\"cmpnyTelno\"]}, Fax: {info[\"cmpnyFxnum\"]}')\n",
    "    print(f'Employees: {info[\"allEmplyCo\"]}, Registration Date: {info[\"frstFctryRegistDe\"]}, Industry: {info[\"indutyNm\"]}')\n",
    "    print(f'Main Product: {info[\"mainProductCn\"]}, Homepage: {info[\"hmpadr\"]}')\n",
    "    if 'fctryLndpclAr' in info:\n",
    "        print(f'Factory Land Parcel Area: {info[\"fctryLndpclAr\"]}, Factory Building Area: {info[\"fctryDongBuldAr\"]}')\n",
    "        print(f'Specific Area Code: {info[\"spfcSeCodeNm\"]}, Institution Name: {info[\"irsttNm\"]}')\n",
    "    print('---------------------------------------------------------------------------------')"
   ]
  }
 ],
 "metadata": {
  "kernelspec": {
   "display_name": "base",
   "language": "python",
   "name": "python3"
  },
  "language_info": {
   "codemirror_mode": {
    "name": "ipython",
    "version": 3
   },
   "file_extension": ".py",
   "mimetype": "text/x-python",
   "name": "python",
   "nbconvert_exporter": "python",
   "pygments_lexer": "ipython3",
   "version": "3.11.7"
  },
  "orig_nbformat": 4
 },
 "nbformat": 4,
 "nbformat_minor": 2
}
