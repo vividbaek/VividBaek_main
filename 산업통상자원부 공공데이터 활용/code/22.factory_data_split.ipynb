{
 "cells": [
  {
   "cell_type": "code",
   "execution_count": 1,
   "metadata": {},
   "outputs": [],
   "source": [
    "import pandas as pd"
   ]
  },
  {
   "cell_type": "code",
   "execution_count": 2,
   "metadata": {},
   "outputs": [
    {
     "name": "stderr",
     "output_type": "stream",
     "text": [
      "C:\\Users\\vivid\\AppData\\Local\\Temp\\ipykernel_2392\\3388959808.py:1: DtypeWarning: Columns (26) have mixed types. Specify dtype option on import or set low_memory=False.\n",
      "  factories = pd.read_csv('../Data/original/전국등록공장현황_2020.csv', encoding='cp949')\n"
     ]
    }
   ],
   "source": [
    "factories = pd.read_csv('../Data/original/전국등록공장현황_2020.csv', encoding='cp949')"
   ]
  },
  {
   "cell_type": "code",
   "execution_count": 3,
   "metadata": {},
   "outputs": [
    {
     "data": {
      "text/plain": [
       "경기도        70578\n",
       "경상남도       19720\n",
       "경상북도       15428\n",
       "인천광역시      12175\n",
       "서울특별시      11639\n",
       "충청남도       10754\n",
       "부산광역시      10443\n",
       "충청북도        9014\n",
       "대구광역시       8209\n",
       "전라남도        7183\n",
       "전라북도        7002\n",
       "광주광역시       4650\n",
       "강원도         3812\n",
       "대전광역시       3226\n",
       "울산광역시       2896\n",
       "세종특별자치시      816\n",
       "제주특별자치도      693\n",
       "Name: 시도명, dtype: int64"
      ]
     },
     "execution_count": 3,
     "metadata": {},
     "output_type": "execute_result"
    }
   ],
   "source": [
    "factories['시도명'].value_counts()"
   ]
  },
  {
   "cell_type": "code",
   "execution_count": 4,
   "metadata": {},
   "outputs": [
    {
     "data": {
      "text/plain": [
       "array(['서울특별시', '경기도', '부산광역시', '대구광역시', '인천광역시', '광주광역시', '대전광역시',\n",
       "       '울산광역시', '세종특별자치시', '강원도', '충청북도', '충청남도', '전라북도', '전라남도', '경상북도',\n",
       "       '경상남도', '제주특별자치도'], dtype=object)"
      ]
     },
     "execution_count": 4,
     "metadata": {},
     "output_type": "execute_result"
    }
   ],
   "source": [
    "factories['시도명'].unique()"
   ]
  },
  {
   "cell_type": "code",
   "execution_count": 13,
   "metadata": {},
   "outputs": [
    {
     "name": "stdout",
     "output_type": "stream",
     "text": [
      "CSV 파일 저장 완료\n"
     ]
    }
   ],
   "source": [
    "for city in factories['시도명'].unique():\n",
    "    city_data = factories[factories['시도명'] == city]\n",
    "    city_data.to_csv(f\"{city}_factory_data.csv\", encoding='cp949', index=False) \n",
    "\n",
    "print(\"CSV 파일 저장 완료\")   "
   ]
  },
  {
   "cell_type": "code",
   "execution_count": null,
   "metadata": {},
   "outputs": [],
   "source": []
  },
  {
   "cell_type": "code",
   "execution_count": null,
   "metadata": {},
   "outputs": [],
   "source": []
  },
  {
   "cell_type": "code",
   "execution_count": null,
   "metadata": {},
   "outputs": [],
   "source": []
  }
 ],
 "metadata": {
  "kernelspec": {
   "display_name": "base",
   "language": "python",
   "name": "python3"
  },
  "language_info": {
   "codemirror_mode": {
    "name": "ipython",
    "version": 3
   },
   "file_extension": ".py",
   "mimetype": "text/x-python",
   "name": "python",
   "nbconvert_exporter": "python",
   "pygments_lexer": "ipython3",
   "version": "3.11.7"
  },
  "orig_nbformat": 4
 },
 "nbformat": 4,
 "nbformat_minor": 2
}
