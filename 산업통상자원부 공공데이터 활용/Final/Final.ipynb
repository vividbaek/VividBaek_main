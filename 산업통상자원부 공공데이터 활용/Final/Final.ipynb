{
 "cells": [
  {
   "cell_type": "code",
   "execution_count": 231,
   "metadata": {},
   "outputs": [],
   "source": [
    "import pandas as pd\n",
    "import joblib\n",
    "import yaml"
   ]
  },
  {
   "cell_type": "code",
   "execution_count": 232,
   "metadata": {},
   "outputs": [],
   "source": [
    "industry = pd.read_excel('../Final/Data/korean_industry.xlsx', dtype = {'코드':str})\n",
    "SMEs = pd.read_csv('../Data/original/Regional_specialization_SMEs.csv', encoding='cp949')\n",
    "Factories = pd.read_csv('../Final/Data/Factory_total.csv')\n",
    "Factories = Factories[Factories['상태'] == '진행'] ## 현재 진행중인 데이터만 가져오기"
   ]
  },
  {
   "cell_type": "code",
   "execution_count": 233,
   "metadata": {},
   "outputs": [
    {
     "data": {
      "text/plain": [
       "Index(['매물위치(1)', '매물위치(2)', '매물위치(3)', '종류/장점', '제목', '상태', '가격', '면적', '방식',\n",
       "       '참고', '조회수', '매물위치(url)'],\n",
       "      dtype='object')"
      ]
     },
     "execution_count": 233,
     "metadata": {},
     "output_type": "execute_result"
    }
   ],
   "source": [
    "Factories.columns"
   ]
  },
  {
   "cell_type": "code",
   "execution_count": 234,
   "metadata": {},
   "outputs": [],
   "source": [
    "local_governments = {\n",
    "    '1': '서울특별시', \n",
    "    '2': '부산광역시', \n",
    "    '3': '대구광역시', \n",
    "    '4': '인천광역시', \n",
    "    '5': '광주광역시', \n",
    "    '6': '대전광역시', \n",
    "    '7': '울산광역시', \n",
    "    '8': '세종특별자치시', \n",
    "    '9': '경기도', \n",
    "    '10': '강원특별자치도', \n",
    "    '11': '충청북도', \n",
    "    '12': '충청남도', \n",
    "    '13': '전북특별자치도', \n",
    "    '14': '전라남도', \n",
    "    '15': '경상북도', \n",
    "    '16': '경상남도', \n",
    "    '17': '제주특별자치도'\n",
    "}"
   ]
  },
  {
   "cell_type": "code",
   "execution_count": 235,
   "metadata": {},
   "outputs": [],
   "source": [
    "local_governments_english = {\n",
    "    '서울특별시': 'Seoul',\n",
    "    '부산광역시': 'Busan',\n",
    "    '대구광역시': 'Daegu',\n",
    "    '인천광역시': 'Incheon',\n",
    "    '광주광역시': 'Gwangju',\n",
    "    '대전광역시': 'Daejeon',\n",
    "    '울산광역시': 'Ulsan',\n",
    "    '세종특별자치시': 'Sejong',\n",
    "    '경기도': 'Gyeonggi',\n",
    "    '강원특별자치도': 'Gangwon',\n",
    "    '충청북도': 'Chungbuk',\n",
    "    '충청남도': 'Chungnam',\n",
    "    '전북특별자치도': 'Jeonbuk',\n",
    "    '전라남도': 'Jeonnam',\n",
    "    '경상북도': 'Gyeongbuk',\n",
    "    '경상남도': 'Gyeongnam',\n",
    "    '제주특별자치도': 'Jeju'\n",
    "}"
   ]
  },
  {
   "cell_type": "code",
   "execution_count": 236,
   "metadata": {},
   "outputs": [
    {
     "name": "stdout",
     "output_type": "stream",
     "text": [
      "공장 부지 선정을 위한 지자체를 선택해주세요.\n",
      "1. 서울특별시\n",
      "2. 부산광역시\n",
      "3. 대구광역시\n",
      "4. 인천광역시\n",
      "5. 광주광역시\n",
      "6. 대전광역시\n",
      "7. 울산광역시\n",
      "8. 세종특별자치시\n",
      "9. 경기도\n",
      "10. 강원특별자치도\n",
      "11. 충청북도\n",
      "12. 충청남도\n",
      "13. 전북특별자치도\n",
      "14. 전라남도\n",
      "15. 경상북도\n",
      "16. 경상남도\n",
      "17. 제주특별자치도\n",
      "선택한 지자체는 \"경기도\" 입니다\n",
      "적합한 모델을 불러오는 중입니다. 잠시만 기다려주세요.\n",
      "모델 및 인코딩 준비 완료\n"
     ]
    }
   ],
   "source": [
    "# local_goverment 선택\n",
    "print(\"공장 부지 선정을 위한 지자체를 선택해주세요.\")\n",
    "for key, value in local_governments.items():\n",
    "    print(f\"{key}. {value}\")\n",
    "\n",
    "user_input_local_goverment = input(\"지자체를 선택해주세요: \")\n",
    "if user_input_local_goverment in local_governments:\n",
    "    korean_name = local_governments[user_input_local_goverment]\n",
    "    english_name = local_governments_english[korean_name]\n",
    "    print(f'선택한 지자체는 \"{korean_name}\" 입니다\\n적합한 모델을 불러오는 중입니다. 잠시만 기다려주세요.')\n",
    "    \n",
    "    # 데이터 로드\n",
    "    data = pd.read_csv(f'../Final/Data/{english_name}_encoding_data.csv')\n",
    "    \n",
    "    # 모델 로드\n",
    "    lgbm_best_model = joblib.load(f'../Final/Final_Model/{english_name}_best_model.pkl')\n",
    "    label_encoders = joblib.load(f'../Final/Final_Model/{english_name}_label_encoders_lgbm.pkl')\n",
    "    original_values = joblib.load(f'../Final/Final_Model/{english_name}_original_values_lgbm.pkl')\n",
    "    # 대표업종 라벨 인코더 로드\n",
    "    label_encoder_industry = label_encoders['대표업종']\n",
    "\n",
    "    # 데이터프레임의 최빈값 계산\n",
    "    most_frequent_values = data.mode().iloc[0].astype(int)\n",
    "\n",
    "    print(\"모델 및 인코딩 준비 완료\")\n",
    "else:\n",
    "    raise ValueError(\"Invalid input for local_goverment. Please enter a number from the list.\")"
   ]
  },
  {
   "cell_type": "code",
   "execution_count": 237,
   "metadata": {},
   "outputs": [
    {
     "data": {
      "text/plain": [
       "공장구분            0\n",
       "설립구분            4\n",
       "입주형태            0\n",
       "보유구분            1\n",
       "등록구분            4\n",
       "남자종업원           3\n",
       "여자종업원           0\n",
       "외국인남자종업원        0\n",
       "외국인여자종업원        0\n",
       "종업원합계           5\n",
       "공장규모            1\n",
       "용도지역            1\n",
       "지목              0\n",
       "용지면적            0\n",
       "제조시설면적        198\n",
       "부대시설면적          0\n",
       "건축면적          198\n",
       "지식산업센터명       269\n",
       "대표업종          432\n",
       "공장주소_지번     19099\n",
       "도               0\n",
       "시              30\n",
       "구              79\n",
       "Name: 0, dtype: int32"
      ]
     },
     "execution_count": 237,
     "metadata": {},
     "output_type": "execute_result"
    }
   ],
   "source": [
    "most_frequent_values"
   ]
  },
  {
   "cell_type": "code",
   "execution_count": 238,
   "metadata": {},
   "outputs": [],
   "source": [
    "# 3. 입력받지 못한 값, 대표 업종 코드에 대한 최빈값으로 결측치를 채움\n",
    "mode_values_by_business = data.groupby('대표업종').agg(lambda x: x.mode().iloc[0])\n",
    "most_frequent_representative_business = data['대표업종'].mode().iloc[0] #대표업종 최빈값\n",
    "most_frequent_representative_business_encoder = str(label_encoder_industry.inverse_transform([most_frequent_representative_business])[0])"
   ]
  },
  {
   "cell_type": "code",
   "execution_count": 239,
   "metadata": {},
   "outputs": [],
   "source": [
    "# 사용자 입력 데이터 받기\n",
    "user_input_보유구분 = input(\"어떤 공장을 보유하고 싶으신가요? (임대: 1 / 자가: 2): \")\n",
    "if user_input_보유구분 == '1':\n",
    "    user_input_보유구분 = '임대'\n",
    "elif user_input_보유구분 == '2':\n",
    "    user_input_보유구분 = '자가'\n",
    "else:\n",
    "    raise ValueError(\"Invalid input for 보유구분. Please enter 1 or 2.\")\n",
    "\n",
    "user_input_등록구분 = input(\"공장 등록구분을 선택해주세요.(1: 등록변경 / 2: 부분등록 / 3: 신규등록 / 4: 완료신고 )\")\n",
    "등록구분_dict = {'1': '등록변경', '2': '부분등록', '3': '신규등록', '4': '완료신고'}\n",
    "if user_input_등록구분 in 등록구분_dict:\n",
    "    user_input_등록구분 = 등록구분_dict[user_input_등록구분]\n",
    "else:\n",
    "    raise ValueError(\"Invalid input for 등록구분. Please enter 1, 2, 3, or 4.\")\n",
    "\n",
    "user_input_공장규모 = input(\"공장 규모를 선택해주세요.(1: 소기업 / 2: 중기업 / 3: 대기업 )\")\n",
    "공장규모_dict = {'1': '소기업', '2': '중기업', '3': '대기업'}\n",
    "if user_input_공장규모 in 공장규모_dict:\n",
    "    user_input_공장규모 = 공장규모_dict[user_input_공장규모]\n",
    "else:\n",
    "    raise ValueError(\"Invalid input for 공장규모. Please enter 1, 2, or 3.\")\n",
    "\n",
    "user_input_남자종업원 = int(input(\"남자종업원 수를 입력해주세요: \"))\n",
    "user_input_여자종업원 = int(input(\"여자종업원 수를 입력해주세요: \"))\n",
    "user_input_외국인남자종업원 = int(input(\"외국인 남자종업원 수를 입력해주세요: \"))\n",
    "user_input_외국인여자종업원 = int(input(\"외국인 여자종업원 수를 입력해주세요: \"))\n",
    "\n",
    "# 종업원합계 자동 계k산\n",
    "user_input_종업원합계 = user_input_남자종업원 + user_input_여자종업원 + user_input_외국인남자종업원 + user_input_외국인여자종업원\n",
    "\n",
    "user_input_대표업종 = int(input(\"대표업종 코드를 입력해주세요. (예: 18111): \"))"
   ]
  },
  {
   "cell_type": "code",
   "execution_count": 240,
   "metadata": {},
   "outputs": [],
   "source": [
    "# 최빈값 계산\n",
    "most_frequent_representative_business_encoder = data['대표업종'].mode()[0]"
   ]
  },
  {
   "cell_type": "code",
   "execution_count": 241,
   "metadata": {},
   "outputs": [
    {
     "data": {
      "text/plain": [
       "432"
      ]
     },
     "execution_count": 241,
     "metadata": {},
     "output_type": "execute_result"
    }
   ],
   "source": [
    "most_frequent_representative_business_encoder"
   ]
  },
  {
   "cell_type": "code",
   "execution_count": 242,
   "metadata": {},
   "outputs": [],
   "source": [
    "# 대표업종 코드 검증 및 대체\n",
    "def get_industry_name_or_default(user_input_code, industry_df, label_encoder, default_code):\n",
    "    user_input_code_str = str(user_input_code)\n",
    "    if user_input_code_str in industry_df['코드'].values:\n",
    "        entry_value = industry_df.loc[industry_df['코드'] == user_input_code_str, '항목명'].values[0]\n",
    "        return user_input_code_str, entry_value\n",
    "    else:\n",
    "        print(f\"입력한 대표업종 코드({user_input_code})가 데이터에 존재하지 않습니다.\")\n",
    "        default_code_str = str(default_code)\n",
    "        default_name = industry_df.loc[industry_df['코드'] == default_code_str, '항목명'].values[0]\n",
    "        print(f\"대표업종 코드를 최빈값인 {default_code_str} ({default_name})으로 대체합니다.\")\n",
    "        return default_code_str, default_name\n",
    "\n",
    "# 최빈값 가져오기\n",
    "most_frequent_representative_business = data['대표업종'].mode().iloc[0]\n",
    "most_frequent_representative_business_code = str(label_encoder_industry.inverse_transform([most_frequent_representative_business])[0])\n",
    "\n",
    "# 사용자 입력 코드 검증 및 대체\n",
    "final_대표업종_code, final_대표업종_name = get_industry_name_or_default(user_input_대표업종, industry, label_encoder_industry, most_frequent_representative_business_code)\n"
   ]
  },
  {
   "cell_type": "code",
   "execution_count": 243,
   "metadata": {},
   "outputs": [
    {
     "data": {
      "text/plain": [
       "432"
      ]
     },
     "execution_count": 243,
     "metadata": {},
     "output_type": "execute_result"
    }
   ],
   "source": [
    "most_frequent_representative_business_encoder"
   ]
  },
  {
   "cell_type": "code",
   "execution_count": 244,
   "metadata": {},
   "outputs": [
    {
     "data": {
      "text/plain": [
       "0       01110\n",
       "1       01121\n",
       "2       01122\n",
       "3       01123\n",
       "4       01131\n",
       "        ...  \n",
       "1192    97000\n",
       "1193    98100\n",
       "1194    98200\n",
       "1195    99001\n",
       "1196    99009\n",
       "Name: 코드, Length: 1197, dtype: object"
      ]
     },
     "execution_count": 244,
     "metadata": {},
     "output_type": "execute_result"
    }
   ],
   "source": [
    "industry['코드']"
   ]
  },
  {
   "attachments": {},
   "cell_type": "markdown",
   "metadata": {},
   "source": [
    "# user_input에 제조면적도 추가하기!?"
   ]
  },
  {
   "cell_type": "code",
   "execution_count": 245,
   "metadata": {},
   "outputs": [],
   "source": [
    "# 사용자 입력 데이터\n",
    "user_input = {\n",
    "    '보유구분': user_input_보유구분, \n",
    "    '등록구분': user_input_등록구분, \n",
    "    '공장규모': user_input_공장규모, \n",
    "    '남자종업원': user_input_남자종업원, \n",
    "    '여자종업원': user_input_여자종업원, \n",
    "    '외국인남자종업원': user_input_외국인남자종업원, \n",
    "    '외국인여자종업원': user_input_외국인여자종업원, \n",
    "    '종업원합계': user_input_종업원합계,\n",
    "    '대표업종': final_대표업종_code\n",
    "}"
   ]
  },
  {
   "cell_type": "code",
   "execution_count": 246,
   "metadata": {},
   "outputs": [
    {
     "name": "stdout",
     "output_type": "stream",
     "text": [
      "{'보유구분': 0, '등록구분': 1, '공장규모': 1, '남자종업원': 1, '여자종업원': 1, '외국인남자종업원': 1, '외국인여자종업원': 1, '종업원합계': 4, '대표업종': 101}\n"
     ]
    }
   ],
   "source": [
    "encoded_user_input = {}\n",
    "\n",
    "for col, value in user_input.items():\n",
    "    if col == '대표업종':\n",
    "        # 대표업종에 대해 라벨 인코딩 적용\n",
    "        try:\n",
    "            encoded_user_input[col] = label_encoder_industry.transform([value])[0]\n",
    "        except ValueError:\n",
    "            print(f\"대표업종 코드({value})가 라벨 인코더에 존재하지 않습니다. 최빈값으로 대체합니다.\")\n",
    "            encoded_user_input[col] = label_encoder_industry.transform([most_frequent_representative_business_code])[0]\n",
    "    elif col in label_encoders:\n",
    "        # 해당 컬럼에 대해 라벨 인코딩 적용\n",
    "        encoded_user_input[col] = label_encoders[col].transform([value])[0]\n",
    "    else:\n",
    "        encoded_user_input[col] = value\n",
    "\n",
    "print(encoded_user_input)"
   ]
  },
  {
   "cell_type": "code",
   "execution_count": 247,
   "metadata": {},
   "outputs": [],
   "source": [
    "# 결측치 채우기 (최빈값으로)\n",
    "for col in data.columns:\n",
    "    if col not in encoded_user_input:\n",
    "        if col in most_frequent_values.index:\n",
    "            encoded_user_input[col] = most_frequent_values[col]\n",
    "\n",
    "# DataFrame 형태로 변환\n",
    "input_df = pd.DataFrame([encoded_user_input])\n",
    "\n",
    "# '구' 열 제거\n",
    "if '구' in input_df.columns:\n",
    "    input_df = input_df.drop(columns=['구'])\n"
   ]
  },
  {
   "cell_type": "code",
   "execution_count": 248,
   "metadata": {},
   "outputs": [
    {
     "name": "stdout",
     "output_type": "stream",
     "text": [
      "   보유구분  등록구분  공장규모  남자종업원  여자종업원  외국인남자종업원  외국인여자종업원  종업원합계  대표업종  공장구분  ...  \\\n",
      "0     0     1     1      1      1         1         1      4   101     0  ...   \n",
      "\n",
      "   용도지역  지목  용지면적  제조시설면적  부대시설면적  건축면적  지식산업센터명  공장주소_지번  도   시  \n",
      "0     1   0     0     198       0   198      269    19099  0  30  \n",
      "\n",
      "[1 rows x 22 columns]\n"
     ]
    }
   ],
   "source": [
    "print(input_df)"
   ]
  },
  {
   "cell_type": "code",
   "execution_count": 249,
   "metadata": {},
   "outputs": [],
   "source": [
    "model_features = lgbm_best_model.booster_.feature_name()"
   ]
  },
  {
   "cell_type": "code",
   "execution_count": 250,
   "metadata": {},
   "outputs": [
    {
     "data": {
      "text/plain": [
       "['공장구분',\n",
       " '설립구분',\n",
       " '입주형태',\n",
       " '보유구분',\n",
       " '등록구분',\n",
       " '남자종업원',\n",
       " '여자종업원',\n",
       " '외국인남자종업원',\n",
       " '외국인여자종업원',\n",
       " '종업원합계',\n",
       " '공장규모',\n",
       " '용도지역',\n",
       " '지목',\n",
       " '용지면적',\n",
       " '제조시설면적',\n",
       " '부대시설면적',\n",
       " '건축면적',\n",
       " '지식산업센터명',\n",
       " '대표업종']"
      ]
     },
     "execution_count": 250,
     "metadata": {},
     "output_type": "execute_result"
    }
   ],
   "source": [
    "model_features"
   ]
  },
  {
   "cell_type": "code",
   "execution_count": 251,
   "metadata": {},
   "outputs": [],
   "source": [
    "encoded_user_input = {}\n",
    "\n",
    "# 입력 데이터에 모든 피처를 포함하도록 수정\n",
    "for col in model_features:\n",
    "    if col not in encoded_user_input:\n",
    "        encoded_user_input[col] = most_frequent_values[col] if col in most_frequent_values.index else 0\n",
    "\n",
    "input_df = pd.DataFrame([encoded_user_input])\n",
    "input_df = input_df[model_features]"
   ]
  },
  {
   "cell_type": "code",
   "execution_count": 252,
   "metadata": {},
   "outputs": [],
   "source": [
    "input_df = pd.DataFrame([encoded_user_input])"
   ]
  },
  {
   "cell_type": "code",
   "execution_count": 253,
   "metadata": {},
   "outputs": [],
   "source": [
    "# 모델이 학습할 때 사용한 열 순서로 정렬\n",
    "model_features = ['공장구분', '설립구분', '입주형태', '보유구분', '등록구분', '남자종업원', '여자종업원', \n",
    "                  '외국인남자종업원', '외국인여자종업원', '종업원합계', '공장규모', '용도지역', '지목', \n",
    "                  '용지면적', '제조시설면적', '부대시설면적', '건축면적', '지식산업센터명', '대표업종']\n",
    "\n",
    "input_df = input_df[model_features]"
   ]
  },
  {
   "cell_type": "code",
   "execution_count": 254,
   "metadata": {},
   "outputs": [
    {
     "data": {
      "text/html": [
       "<div>\n",
       "<style scoped>\n",
       "    .dataframe tbody tr th:only-of-type {\n",
       "        vertical-align: middle;\n",
       "    }\n",
       "\n",
       "    .dataframe tbody tr th {\n",
       "        vertical-align: top;\n",
       "    }\n",
       "\n",
       "    .dataframe thead th {\n",
       "        text-align: right;\n",
       "    }\n",
       "</style>\n",
       "<table border=\"1\" class=\"dataframe\">\n",
       "  <thead>\n",
       "    <tr style=\"text-align: right;\">\n",
       "      <th></th>\n",
       "      <th>공장구분</th>\n",
       "      <th>설립구분</th>\n",
       "      <th>입주형태</th>\n",
       "      <th>보유구분</th>\n",
       "      <th>등록구분</th>\n",
       "      <th>남자종업원</th>\n",
       "      <th>여자종업원</th>\n",
       "      <th>외국인남자종업원</th>\n",
       "      <th>외국인여자종업원</th>\n",
       "      <th>종업원합계</th>\n",
       "      <th>공장규모</th>\n",
       "      <th>용도지역</th>\n",
       "      <th>지목</th>\n",
       "      <th>용지면적</th>\n",
       "      <th>제조시설면적</th>\n",
       "      <th>부대시설면적</th>\n",
       "      <th>건축면적</th>\n",
       "      <th>지식산업센터명</th>\n",
       "      <th>대표업종</th>\n",
       "    </tr>\n",
       "  </thead>\n",
       "  <tbody>\n",
       "    <tr>\n",
       "      <th>0</th>\n",
       "      <td>0</td>\n",
       "      <td>4</td>\n",
       "      <td>0</td>\n",
       "      <td>1</td>\n",
       "      <td>4</td>\n",
       "      <td>3</td>\n",
       "      <td>0</td>\n",
       "      <td>0</td>\n",
       "      <td>0</td>\n",
       "      <td>5</td>\n",
       "      <td>1</td>\n",
       "      <td>1</td>\n",
       "      <td>0</td>\n",
       "      <td>0</td>\n",
       "      <td>198</td>\n",
       "      <td>0</td>\n",
       "      <td>198</td>\n",
       "      <td>269</td>\n",
       "      <td>432</td>\n",
       "    </tr>\n",
       "  </tbody>\n",
       "</table>\n",
       "</div>"
      ],
      "text/plain": [
       "   공장구분  설립구분  입주형태  보유구분  등록구분  남자종업원  여자종업원  외국인남자종업원  외국인여자종업원  종업원합계  \\\n",
       "0     0     4     0     1     4      3      0         0         0      5   \n",
       "\n",
       "   공장규모  용도지역  지목  용지면적  제조시설면적  부대시설면적  건축면적  지식산업센터명  대표업종  \n",
       "0     1     1   0     0     198       0   198      269   432  "
      ]
     },
     "execution_count": 254,
     "metadata": {},
     "output_type": "execute_result"
    }
   ],
   "source": [
    "input_df"
   ]
  },
  {
   "cell_type": "code",
   "execution_count": 255,
   "metadata": {},
   "outputs": [
    {
     "name": "stdout",
     "output_type": "stream",
     "text": [
      "  공장구분 설립구분 입주형태 보유구분  등록구분  남자종업원  여자종업원  외국인남자종업원  외국인여자종업원  종업원합계 공장규모  \\\n",
      "0   개별   일반        자가  완료신고      3      0         0         0      5  소기업   \n",
      "\n",
      "                  용도지역    지목  용지면적  제조시설면적  부대시설면적  건축면적 지식산업센터명   대표업종  \n",
      "0  관리지역/계획관리지역/계획관리지역/  공장용지     0     198       0   198    해당없음  29294  \n"
     ]
    }
   ],
   "source": [
    "# 인코딩된 값을 원래 값으로 변환\n",
    "decoded_user_input = {}\n",
    "for col in input_df.columns:\n",
    "    if col in label_encoders:\n",
    "        decoded_user_input[col] = label_encoders[col].inverse_transform(input_df[col])[0]\n",
    "    else:\n",
    "        decoded_user_input[col] = input_df[col].values[0]\n",
    "\n",
    "# 결과 출력\n",
    "decoded_df = pd.DataFrame([decoded_user_input])\n",
    "print(decoded_df)"
   ]
  },
  {
   "cell_type": "code",
   "execution_count": 256,
   "metadata": {},
   "outputs": [],
   "source": [
    "# 4. 모델 추론 수행\n",
    "prediction = lgbm_best_model.predict(input_df)"
   ]
  },
  {
   "cell_type": "code",
   "execution_count": 257,
   "metadata": {},
   "outputs": [
    {
     "name": "stdout",
     "output_type": "stream",
     "text": [
      "모델 예측 결과: 정남면\n"
     ]
    }
   ],
   "source": [
    "# 결과를 원래 값으로 변환\n",
    "predicted_label = prediction[0]\n",
    "predicted_class = original_values['구'][predicted_label]\n",
    "print(f\"모델 예측 결과: {predicted_class}\")"
   ]
  },
  {
   "attachments": {},
   "cell_type": "markdown",
   "metadata": {},
   "source": [
    "### SMEs 주력산업 제공"
   ]
  },
  {
   "cell_type": "code",
   "execution_count": 258,
   "metadata": {},
   "outputs": [
    {
     "name": "stdout",
     "output_type": "stream",
     "text": [
      "선택한 지자체의 주력산업은: 중소벤처 지역특화 업종이 존재하지 않습니다.\n"
     ]
    }
   ],
   "source": [
    "# 주력산업 찾기\n",
    "user_input_local_goverment = int(user_input_local_goverment)\n",
    "selected_industry = SMEs[SMEs['연번'] == user_input_local_goverment]['주력산업'].values[0]\n",
    "\n",
    "# 결과 출력\n",
    "print(f\"선택한 지자체의 주력산업은: {selected_industry}\")"
   ]
  },
  {
   "attachments": {},
   "cell_type": "markdown",
   "metadata": {},
   "source": [
    "## OPENAI 통해서 산업 장단점, 전망 파악하기"
   ]
  },
  {
   "cell_type": "code",
   "execution_count": 259,
   "metadata": {},
   "outputs": [],
   "source": [
    "#config.yaml 파일 경로\n",
    "config_path = '../Config/config.yaml'\n",
    "\n",
    "#yaml 파일 열기\n",
    "with open(config_path, 'r', encoding='utf-8') as file:\n",
    "    config = yaml.safe_load(file)\n",
    "\n",
    "Service_key = config['ServiceKey']['OpenAIkEY']"
   ]
  },
  {
   "cell_type": "code",
   "execution_count": 260,
   "metadata": {},
   "outputs": [
    {
     "name": "stdout",
     "output_type": "stream",
     "text": [
      "가방 및 기타 보호용 케이스 제조업은 다양한 종류의 가방과 케이스를 제작하는 산업입니다. 이 산업은 패션, 여행, 전자기기 보호 등 다양한 목적을 위한 제품을 포함하며, 소비자의 수요에 따라 끊임없이 변화합니다. 이제 이 업종의 장점, 단점, 전망, 결론에 대해 자세히 설명해드리겠습니다.\n",
      "\n",
      "### 장점\n",
      "1. **다양한 시장 기회**: 가방 및 케이스 제조업은 패션, 여행, 전자기기 보호 등 다양한 시장에서 기회를 제공합니다. 각 시장마다 특화된 제품을 제공할 수 있어 다변화를 통해 리스크를 분산할 수 있습니다.\n",
      "\n",
      "2. **높은 부가가치**: 브랜드와 디자인이 중요한 요소로 작용하여 고부가가치 제품을 생산할 수 있습니다. 소비자들은 특별한 디자인이나 브랜드 가치에 대해 기꺼이 더 많은 비용을 지불할 의향이 있습니다.\n",
      "\n",
      "3. **글로벌 시장 접근성**: 전자상거래와 국제 물류의 발달로 인해 글로벌 시장에 쉽게 접근할 수 있습니다. 다양한 국가의 소비자들을 대상으로 제품을 판매할 수 있습니다.\n",
      "\n",
      "4. **기술 발전**: 3D 프린팅, 스마트 소재 등 최신 기술을 활용해 혁신적인 제품을 개발할 수 있는 여지가 많습니다. 이는 시장에서의 경쟁력을 높이는 데 도움이 됩니다.\n",
      "\n",
      "### 단점\n",
      "1. **높은 초기 투자 비용**: 제조업 특성상 공장 설비, 원자재 구매, 인력 고용 등 초기 투자 비용이 높습니다. 이는 자금 조달에 부담이 될 수 있습니다.\n",
      "\n",
      "2. **경쟁 심화**: 이미 많은 기업들이 존재하고 있으며, 특히 패션 가방 시장에서는 경쟁이 매우 치열합니다. 저가 제품부터 고가 제품까지 다양한 경쟁자들과 싸워야 합니다.\n",
      "\n",
      "3. **소비자 취향 변화**: 패션 업계의 특성상 소비자 취향이 빠르게 변화합니다. 이에 따라 제품 개발과 생산 계획을 유연하게 조정해야 합니다.\n",
      "\n",
      "4. **품질 관리**: 다양한 소재와 디자인을 사용하기 때문에 품질 관리가 복잡할 수 있습니다. 특히 고가의 제품일수록 품질 문제가 발생하면 브랜드 이미지에 큰 타격을 입을 수 있습니다.\n",
      "\n",
      "### 전망\n",
      "1. **전자기기 보호 시장 성장**: 스마트폰, 태블릿, 노트북 등 전자기기의 보급률이 높아짐에 따라 전자기기 보호용 케이스 시장은 꾸준히 성장할 것으로 예상됩니다.\n",
      "\n",
      "2. **친환경 제품 수요 증가**: 환경 보호에 대한 관심이 높아지면서 친환경 소재를 사용한 제품에 대한 수요가 증가하고 있습니다. 이는 새로운 시장 기회를 제공합니다.\n",
      "\n",
      "3. **온라인 쇼핑의 성장**: 전자상거래의 성장에 따라 온라인을 통한 제품 판매가 중요한 채널로 자리잡고 있습니다. 이를 통해 더 많은 소비자에게 접근할 수 있습니다.\n",
      "\n",
      "4. **맞춤형 제품**: 소비자들이 개성을 중요시하면서 맞춤형 제품에 대한 수요가 증가하고 있습니다. 이는 프리미엄 시장에서 새로운 기회를 창출할 수 있습니다.\n",
      "\n",
      "### 결론\n",
      "가방 및 기타 보호용 케이스 제조업은 다양한 시장 기회와 높은 부가가치를 가지고 있어 매력적인 산업입니다. 그러나 높은 초기 투자 비용과 치열한 경쟁, 빠르게 변화하는 소비자 취향 등의 도전 과제가 존재합니다. 이를 극복하기 위해서는 효율적인 자금 관리, 품질 관리, 시장 트렌드 분석, 그리고 기술 혁신이 필요합니다.\n",
      "\n",
      "특히 친환경 소재와 맞춤형 제품에 대한 수요 증가를 고려하여 제품 라인업을 구성한다면, 앞으로의 성장 가능성은 매우 밝다고 할 수 있습니다. 종합적으로, 철저한 준비와 전략적 접근을 통해 성공할 수 있는 산업으로 평가할 수 있습니다.\n"
     ]
    }
   ],
   "source": [
    "from openai import OpenAI, OpenAIError, RateLimitError\n",
    "import time\n",
    "import backoff\n",
    "\n",
    "# OpenAI 클라이언트 초기화\n",
    "client = OpenAI(\n",
    "    api_key = Service_key \n",
    ")\n",
    "\n",
    "# 재시도 로직을 사용한 함수\n",
    "@backoff.on_exception(backoff.expo, (OpenAIError, RateLimitError), max_tries=5)\n",
    "def get_completion(**kwargs):\n",
    "    return client.chat.completions.create(**kwargs)\n",
    "\n",
    "message_content = f\"업종코드 {final_대표업종_name}에 관련해서 장점, 단점, 전망, 결론에 대해서 사업을 시작하기 위한 사람들을 위해 자세하게 설명해줘.\"\n",
    "\n",
    "\n",
    "# 요청 데이터 설정\n",
    "data = {\n",
    "    'model': 'gpt-4o',  # 최신 모델 사용\n",
    "    'messages': [{'role': 'user', 'content': message_content}],\n",
    "    'max_tokens': 1200,\n",
    "    'temperature': 0.7  # 응답의 창의성 조절\n",
    "}\n",
    "\n",
    "try:\n",
    "    response = get_completion(**data)\n",
    "    print(response.choices[0].message.content.strip())\n",
    "except RateLimitError as e:\n",
    "    print(\"Rate limit exceeded. Please wait and try again later.\")\n",
    "    time.sleep(60)  # 1분 대기 후 재시도\n",
    "except OpenAIError as e:\n",
    "    print(f\"An error occurred: {e}\")"
   ]
  },
  {
   "cell_type": "code",
   "execution_count": 261,
   "metadata": {},
   "outputs": [
    {
     "data": {
      "text/plain": [
       "'정남면'"
      ]
     },
     "execution_count": 261,
     "metadata": {},
     "output_type": "execute_result"
    }
   ],
   "source": [
    "predicted_class"
   ]
  },
  {
   "cell_type": "code",
   "execution_count": 262,
   "metadata": {},
   "outputs": [
    {
     "data": {
      "text/plain": [
       "'경기도'"
      ]
     },
     "execution_count": 262,
     "metadata": {},
     "output_type": "execute_result"
    }
   ],
   "source": [
    "korean_name"
   ]
  },
  {
   "cell_type": "code",
   "execution_count": 263,
   "metadata": {},
   "outputs": [
    {
     "data": {
      "text/html": [
       "<style type=\"text/css\">\n",
       "#T_90ba3 th.col0 {\n",
       "  text-align: left;\n",
       "}\n",
       "#T_90ba3 th.col1 {\n",
       "  text-align: left;\n",
       "}\n",
       "#T_90ba3 th.col2 {\n",
       "  text-align: left;\n",
       "}\n",
       "#T_90ba3 th.col3 {\n",
       "  text-align: left;\n",
       "}\n",
       "#T_90ba3 th.col4 {\n",
       "  text-align: left;\n",
       "}\n",
       "#T_90ba3 th.col5 {\n",
       "  text-align: left;\n",
       "}\n",
       "#T_90ba3 th.col6 {\n",
       "  text-align: left;\n",
       "}\n",
       "#T_90ba3 th.col7 {\n",
       "  text-align: left;\n",
       "}\n",
       "#T_90ba3 th.col8 {\n",
       "  text-align: left;\n",
       "}\n",
       "#T_90ba3 th.col9 {\n",
       "  text-align: left;\n",
       "}\n",
       "#T_90ba3 th.col10 {\n",
       "  text-align: left;\n",
       "}\n",
       "#T_90ba3 th.col11 {\n",
       "  text-align: left;\n",
       "}\n",
       "#T_90ba3_row0_col0, #T_90ba3_row0_col1, #T_90ba3_row0_col2, #T_90ba3_row0_col3, #T_90ba3_row0_col4, #T_90ba3_row0_col5, #T_90ba3_row0_col6, #T_90ba3_row0_col7, #T_90ba3_row0_col8, #T_90ba3_row0_col9, #T_90ba3_row0_col10, #T_90ba3_row0_col11, #T_90ba3_row1_col0, #T_90ba3_row1_col1, #T_90ba3_row1_col2, #T_90ba3_row1_col3, #T_90ba3_row1_col4, #T_90ba3_row1_col5, #T_90ba3_row1_col6, #T_90ba3_row1_col7, #T_90ba3_row1_col8, #T_90ba3_row1_col9, #T_90ba3_row1_col10, #T_90ba3_row1_col11, #T_90ba3_row2_col0, #T_90ba3_row2_col1, #T_90ba3_row2_col2, #T_90ba3_row2_col3, #T_90ba3_row2_col4, #T_90ba3_row2_col5, #T_90ba3_row2_col6, #T_90ba3_row2_col7, #T_90ba3_row2_col8, #T_90ba3_row2_col9, #T_90ba3_row2_col10, #T_90ba3_row2_col11, #T_90ba3_row3_col0, #T_90ba3_row3_col1, #T_90ba3_row3_col2, #T_90ba3_row3_col3, #T_90ba3_row3_col4, #T_90ba3_row3_col5, #T_90ba3_row3_col6, #T_90ba3_row3_col7, #T_90ba3_row3_col8, #T_90ba3_row3_col9, #T_90ba3_row3_col10, #T_90ba3_row3_col11, #T_90ba3_row4_col0, #T_90ba3_row4_col1, #T_90ba3_row4_col2, #T_90ba3_row4_col3, #T_90ba3_row4_col4, #T_90ba3_row4_col5, #T_90ba3_row4_col6, #T_90ba3_row4_col7, #T_90ba3_row4_col8, #T_90ba3_row4_col9, #T_90ba3_row4_col10, #T_90ba3_row4_col11, #T_90ba3_row5_col0, #T_90ba3_row5_col1, #T_90ba3_row5_col2, #T_90ba3_row5_col3, #T_90ba3_row5_col4, #T_90ba3_row5_col5, #T_90ba3_row5_col6, #T_90ba3_row5_col7, #T_90ba3_row5_col8, #T_90ba3_row5_col9, #T_90ba3_row5_col10, #T_90ba3_row5_col11, #T_90ba3_row6_col0, #T_90ba3_row6_col1, #T_90ba3_row6_col2, #T_90ba3_row6_col3, #T_90ba3_row6_col4, #T_90ba3_row6_col5, #T_90ba3_row6_col6, #T_90ba3_row6_col7, #T_90ba3_row6_col8, #T_90ba3_row6_col9, #T_90ba3_row6_col10, #T_90ba3_row6_col11, #T_90ba3_row7_col0, #T_90ba3_row7_col1, #T_90ba3_row7_col2, #T_90ba3_row7_col3, #T_90ba3_row7_col4, #T_90ba3_row7_col5, #T_90ba3_row7_col6, #T_90ba3_row7_col7, #T_90ba3_row7_col8, #T_90ba3_row7_col9, #T_90ba3_row7_col10, #T_90ba3_row7_col11, #T_90ba3_row8_col0, #T_90ba3_row8_col1, #T_90ba3_row8_col2, #T_90ba3_row8_col3, #T_90ba3_row8_col4, #T_90ba3_row8_col5, #T_90ba3_row8_col6, #T_90ba3_row8_col7, #T_90ba3_row8_col8, #T_90ba3_row8_col9, #T_90ba3_row8_col10, #T_90ba3_row8_col11, #T_90ba3_row9_col0, #T_90ba3_row9_col1, #T_90ba3_row9_col2, #T_90ba3_row9_col3, #T_90ba3_row9_col4, #T_90ba3_row9_col5, #T_90ba3_row9_col6, #T_90ba3_row9_col7, #T_90ba3_row9_col8, #T_90ba3_row9_col9, #T_90ba3_row9_col10, #T_90ba3_row9_col11, #T_90ba3_row10_col0, #T_90ba3_row10_col1, #T_90ba3_row10_col2, #T_90ba3_row10_col3, #T_90ba3_row10_col4, #T_90ba3_row10_col5, #T_90ba3_row10_col6, #T_90ba3_row10_col7, #T_90ba3_row10_col8, #T_90ba3_row10_col9, #T_90ba3_row10_col10, #T_90ba3_row10_col11, #T_90ba3_row11_col0, #T_90ba3_row11_col1, #T_90ba3_row11_col2, #T_90ba3_row11_col3, #T_90ba3_row11_col4, #T_90ba3_row11_col5, #T_90ba3_row11_col6, #T_90ba3_row11_col7, #T_90ba3_row11_col8, #T_90ba3_row11_col9, #T_90ba3_row11_col10, #T_90ba3_row11_col11, #T_90ba3_row12_col0, #T_90ba3_row12_col1, #T_90ba3_row12_col2, #T_90ba3_row12_col3, #T_90ba3_row12_col4, #T_90ba3_row12_col5, #T_90ba3_row12_col6, #T_90ba3_row12_col7, #T_90ba3_row12_col8, #T_90ba3_row12_col9, #T_90ba3_row12_col10, #T_90ba3_row12_col11, #T_90ba3_row13_col0, #T_90ba3_row13_col1, #T_90ba3_row13_col2, #T_90ba3_row13_col3, #T_90ba3_row13_col4, #T_90ba3_row13_col5, #T_90ba3_row13_col6, #T_90ba3_row13_col7, #T_90ba3_row13_col8, #T_90ba3_row13_col9, #T_90ba3_row13_col10, #T_90ba3_row13_col11, #T_90ba3_row14_col0, #T_90ba3_row14_col1, #T_90ba3_row14_col2, #T_90ba3_row14_col3, #T_90ba3_row14_col4, #T_90ba3_row14_col5, #T_90ba3_row14_col6, #T_90ba3_row14_col7, #T_90ba3_row14_col8, #T_90ba3_row14_col9, #T_90ba3_row14_col10, #T_90ba3_row14_col11, #T_90ba3_row15_col0, #T_90ba3_row15_col1, #T_90ba3_row15_col2, #T_90ba3_row15_col3, #T_90ba3_row15_col4, #T_90ba3_row15_col5, #T_90ba3_row15_col6, #T_90ba3_row15_col7, #T_90ba3_row15_col8, #T_90ba3_row15_col9, #T_90ba3_row15_col10, #T_90ba3_row15_col11, #T_90ba3_row16_col0, #T_90ba3_row16_col1, #T_90ba3_row16_col2, #T_90ba3_row16_col3, #T_90ba3_row16_col4, #T_90ba3_row16_col5, #T_90ba3_row16_col6, #T_90ba3_row16_col7, #T_90ba3_row16_col8, #T_90ba3_row16_col9, #T_90ba3_row16_col10, #T_90ba3_row16_col11, #T_90ba3_row17_col0, #T_90ba3_row17_col1, #T_90ba3_row17_col2, #T_90ba3_row17_col3, #T_90ba3_row17_col4, #T_90ba3_row17_col5, #T_90ba3_row17_col6, #T_90ba3_row17_col7, #T_90ba3_row17_col8, #T_90ba3_row17_col9, #T_90ba3_row17_col10, #T_90ba3_row17_col11, #T_90ba3_row18_col0, #T_90ba3_row18_col1, #T_90ba3_row18_col2, #T_90ba3_row18_col3, #T_90ba3_row18_col4, #T_90ba3_row18_col5, #T_90ba3_row18_col6, #T_90ba3_row18_col7, #T_90ba3_row18_col8, #T_90ba3_row18_col9, #T_90ba3_row18_col10, #T_90ba3_row18_col11 {\n",
       "  text-align: left;\n",
       "}\n",
       "</style>\n",
       "<table id=\"T_90ba3\">\n",
       "  <thead>\n",
       "    <tr>\n",
       "      <th class=\"blank level0\" >&nbsp;</th>\n",
       "      <th id=\"T_90ba3_level0_col0\" class=\"col_heading level0 col0\" >매물위치(1)</th>\n",
       "      <th id=\"T_90ba3_level0_col1\" class=\"col_heading level0 col1\" >매물위치(2)</th>\n",
       "      <th id=\"T_90ba3_level0_col2\" class=\"col_heading level0 col2\" >매물위치(3)</th>\n",
       "      <th id=\"T_90ba3_level0_col3\" class=\"col_heading level0 col3\" >종류/장점</th>\n",
       "      <th id=\"T_90ba3_level0_col4\" class=\"col_heading level0 col4\" >제목</th>\n",
       "      <th id=\"T_90ba3_level0_col5\" class=\"col_heading level0 col5\" >상태</th>\n",
       "      <th id=\"T_90ba3_level0_col6\" class=\"col_heading level0 col6\" >가격</th>\n",
       "      <th id=\"T_90ba3_level0_col7\" class=\"col_heading level0 col7\" >면적</th>\n",
       "      <th id=\"T_90ba3_level0_col8\" class=\"col_heading level0 col8\" >방식</th>\n",
       "      <th id=\"T_90ba3_level0_col9\" class=\"col_heading level0 col9\" >참고</th>\n",
       "      <th id=\"T_90ba3_level0_col10\" class=\"col_heading level0 col10\" >조회수</th>\n",
       "      <th id=\"T_90ba3_level0_col11\" class=\"col_heading level0 col11\" >매물위치(url)</th>\n",
       "    </tr>\n",
       "  </thead>\n",
       "  <tbody>\n",
       "    <tr>\n",
       "      <th id=\"T_90ba3_level0_row0\" class=\"row_heading level0 row0\" >15</th>\n",
       "      <td id=\"T_90ba3_row0_col0\" class=\"data row0 col0\" >경기도</td>\n",
       "      <td id=\"T_90ba3_row0_col1\" class=\"data row0 col1\" >화성시</td>\n",
       "      <td id=\"T_90ba3_row0_col2\" class=\"data row0 col2\" >정남면</td>\n",
       "      <td id=\"T_90ba3_row0_col3\" class=\"data row0 col3\" >시설-38 재활용/폐기물</td>\n",
       "      <td id=\"T_90ba3_row0_col4\" class=\"data row0 col4\" >화성 정남면 PP, PE 재활용공장 파쇄, 분쇄, 압출 공장...</td>\n",
       "      <td id=\"T_90ba3_row0_col5\" class=\"data row0 col5\" >진행</td>\n",
       "      <td id=\"T_90ba3_row0_col6\" class=\"data row0 col6\" >167,000만원</td>\n",
       "      <td id=\"T_90ba3_row0_col7\" class=\"data row0 col7\" >대지 : 1,580㎡ (478평)\n",
       "건물 : 715㎡ (216평)</td>\n",
       "      <td id=\"T_90ba3_row0_col8\" class=\"data row0 col8\" >매매</td>\n",
       "      <td id=\"T_90ba3_row0_col9\" class=\"data row0 col9\" >구분 층명 구조 용도 면적(㎡) 지상 일동 1층 경량철골조 판넬 분뇨...</td>\n",
       "      <td id=\"T_90ba3_row0_col10\" class=\"data row0 col10\" >119</td>\n",
       "      <td id=\"T_90ba3_row0_col11\" class=\"data row0 col11\" >http://www.okfactory.com/main/estat_view.php?board_data=aWR4PTcyOTAmc3RhcnRQYWdlPTEyJmxpc3RObz01MTk2JnRhYmxlPSZjb2RlPSZzZWFyY2hfaXRlbT0mc2VhcmNoX29yZGVyPSZzZWFyY2hfbm89||&search_items=dHJhZGVfdHlwZT0mXyZ0cmFkZV9pbWc9Jl8mYXJlYV9pbWc9Jl8mc2VhcmNoX29yZGVyPSZfJnNlYXJjaF9vcGVuPSZfJnNlYXJjaF9ubz0mXyZzZWFyY2hfY29tYXBhbnk9Jl8mc2VhcmNoX25hbWU9Jl8mc2VhcmNoX2FkZHI9Jl8mc2VhcmNoX2Jsb2NrPSZfJnNlYXJjaF9sb3Q9Jl8mc2VhcmNoX29wZW49Jl8mdW5zaW5nY29kZTE9MTE4MTYzNjA4NSZfJnVuc2luZ2NvZGUyPTEyMTM3MDAxMTMmXyZ1bnNpbmdjb2RlMz0mXyZkaXNwbGF5X2ltZz0mXyZ1c2VyaWQ9Jl8mcHllb25nMT0mXyZweWVvbmcyPSZfJnB5b25nMT0mXyZweW9uZzI9Jl8mbW9uZXkxPSZfJm1vbmV5Mj0mXyZob2lzdDE9Jl8maG9pc3QyPSZfJnBvd2VyMT0mXyZwb3dlcjI9Jl8maGVpZ2h0MT0mXyZoZWlnaHQyPSZfJmNpdHk9Jl8mZ29vPSZfJmRvbmc9Jl8mc2l6ZXR5cGU9Jl8mc29ydD0=||</td>\n",
       "    </tr>\n",
       "    <tr>\n",
       "      <th id=\"T_90ba3_level0_row1\" class=\"row_heading level0 row1\" >38</th>\n",
       "      <td id=\"T_90ba3_row1_col0\" class=\"data row1 col0\" >경기도</td>\n",
       "      <td id=\"T_90ba3_row1_col1\" class=\"data row1 col1\" >화성시</td>\n",
       "      <td id=\"T_90ba3_row1_col2\" class=\"data row1 col2\" >정남면</td>\n",
       "      <td id=\"T_90ba3_row1_col3\" class=\"data row1 col3\" >공장-29.30 기계장비/자동차</td>\n",
       "      <td id=\"T_90ba3_row1_col4\" class=\"data row1 col4\" >화성시 정남면 일반산업단지 신축공장 임대. 전체 대지 5322..</td>\n",
       "      <td id=\"T_90ba3_row1_col5\" class=\"data row1 col5\" >진행</td>\n",
       "      <td id=\"T_90ba3_row1_col6\" class=\"data row1 col6\" >8,400만원</td>\n",
       "      <td id=\"T_90ba3_row1_col7\" class=\"data row1 col7\" >대지 : 17,600㎡ (5,324평)\n",
       "건물 : 13,890㎡ (4,202평)</td>\n",
       "      <td id=\"T_90ba3_row1_col8\" class=\"data row1 col8\" >월세</td>\n",
       "      <td id=\"T_90ba3_row1_col9\" class=\"data row1 col9\" >신축공장 입니다.  공장 2개 동 구성. 각동별 2100평 ,..</td>\n",
       "      <td id=\"T_90ba3_row1_col10\" class=\"data row1 col10\" >119</td>\n",
       "      <td id=\"T_90ba3_row1_col11\" class=\"data row1 col11\" >http://www.okfactory.com/main/estat_view.php?board_data=aWR4PTcyNjYmc3RhcnRQYWdlPTM2Jmxpc3RObz01MTczJnRhYmxlPSZjb2RlPSZzZWFyY2hfaXRlbT0mc2VhcmNoX29yZGVyPSZzZWFyY2hfbm89||&search_items=dHJhZGVfdHlwZT0mXyZ0cmFkZV9pbWc9Jl8mYXJlYV9pbWc9Jl8mc2VhcmNoX29yZGVyPSZfJnNlYXJjaF9vcGVuPSZfJnNlYXJjaF9ubz0mXyZzZWFyY2hfY29tYXBhbnk9Jl8mc2VhcmNoX25hbWU9Jl8mc2VhcmNoX2FkZHI9Jl8mc2VhcmNoX2Jsb2NrPSZfJnNlYXJjaF9sb3Q9Jl8mc2VhcmNoX29wZW49Jl8mdW5zaW5nY29kZTE9MTE4MTYzNjA4NSZfJnVuc2luZ2NvZGUyPTEyMTM3MDAxMTMmXyZ1bnNpbmdjb2RlMz0mXyZkaXNwbGF5X2ltZz0mXyZ1c2VyaWQ9Jl8mcHllb25nMT0mXyZweWVvbmcyPSZfJnB5b25nMT0mXyZweW9uZzI9Jl8mbW9uZXkxPSZfJm1vbmV5Mj0mXyZob2lzdDE9Jl8maG9pc3QyPSZfJnBvd2VyMT0mXyZwb3dlcjI9Jl8maGVpZ2h0MT0mXyZoZWlnaHQyPSZfJmNpdHk9Jl8mZ29vPSZfJmRvbmc9Jl8mc2l6ZXR5cGU9Jl8mc29ydD0=||</td>\n",
       "    </tr>\n",
       "    <tr>\n",
       "      <th id=\"T_90ba3_level0_row2\" class=\"row_heading level0 row2\" >124</th>\n",
       "      <td id=\"T_90ba3_row2_col0\" class=\"data row2 col0\" >경기도</td>\n",
       "      <td id=\"T_90ba3_row2_col1\" class=\"data row2 col1\" >화성시</td>\n",
       "      <td id=\"T_90ba3_row2_col2\" class=\"data row2 col2\" >정남면</td>\n",
       "      <td id=\"T_90ba3_row2_col3\" class=\"data row2 col3\" >공장-16.33 기타소형/일반</td>\n",
       "      <td id=\"T_90ba3_row2_col4\" class=\"data row2 col4\" >화성 정남 교통요충지 최고의 소형공장 매매[부지 210평+도로..</td>\n",
       "      <td id=\"T_90ba3_row2_col5\" class=\"data row2 col5\" >진행</td>\n",
       "      <td id=\"T_90ba3_row2_col6\" class=\"data row2 col6\" >85,000만원</td>\n",
       "      <td id=\"T_90ba3_row2_col7\" class=\"data row2 col7\" >대지 : 714㎡ (216평)\n",
       "건물 : 199㎡ (60평)</td>\n",
       "      <td id=\"T_90ba3_row2_col8\" class=\"data row2 col8\" >매매</td>\n",
       "      <td id=\"T_90ba3_row2_col9\" class=\"data row2 col9\" >지목 공장용지 면적 694㎡ 외 도로지분 약 8..</td>\n",
       "      <td id=\"T_90ba3_row2_col10\" class=\"data row2 col10\" >350</td>\n",
       "      <td id=\"T_90ba3_row2_col11\" class=\"data row2 col11\" >http://www.okfactory.com/main/estat_view.php?board_data=aWR4PTcxNzUmc3RhcnRQYWdlPTEyMCZsaXN0Tm89NTA4MiZ0YWJsZT0mY29kZT0mc2VhcmNoX2l0ZW09JnNlYXJjaF9vcmRlcj0mc2VhcmNoX25vPQ==||&search_items=dHJhZGVfdHlwZT0mXyZ0cmFkZV9pbWc9Jl8mYXJlYV9pbWc9Jl8mc2VhcmNoX29yZGVyPSZfJnNlYXJjaF9vcGVuPSZfJnNlYXJjaF9ubz0mXyZzZWFyY2hfY29tYXBhbnk9Jl8mc2VhcmNoX25hbWU9Jl8mc2VhcmNoX2FkZHI9Jl8mc2VhcmNoX2Jsb2NrPSZfJnNlYXJjaF9sb3Q9Jl8mc2VhcmNoX29wZW49Jl8mdW5zaW5nY29kZTE9MTE4MTYzNjA4NSZfJnVuc2luZ2NvZGUyPTEyMTM3MDAxMTMmXyZ1bnNpbmdjb2RlMz0mXyZkaXNwbGF5X2ltZz0mXyZ1c2VyaWQ9Jl8mcHllb25nMT0mXyZweWVvbmcyPSZfJnB5b25nMT0mXyZweW9uZzI9Jl8mbW9uZXkxPSZfJm1vbmV5Mj0mXyZob2lzdDE9Jl8maG9pc3QyPSZfJnBvd2VyMT0mXyZwb3dlcjI9Jl8maGVpZ2h0MT0mXyZoZWlnaHQyPSZfJmNpdHk9Jl8mZ29vPSZfJmRvbmc9Jl8mc2l6ZXR5cGU9Jl8mc29ydD0=||</td>\n",
       "    </tr>\n",
       "    <tr>\n",
       "      <th id=\"T_90ba3_level0_row3\" class=\"row_heading level0 row3\" >279</th>\n",
       "      <td id=\"T_90ba3_row3_col0\" class=\"data row3 col0\" >경기도</td>\n",
       "      <td id=\"T_90ba3_row3_col1\" class=\"data row3 col1\" >화성시</td>\n",
       "      <td id=\"T_90ba3_row3_col2\" class=\"data row3 col2\" >정남면</td>\n",
       "      <td id=\"T_90ba3_row3_col3\" class=\"data row3 col3\" >토지-공장.창고부지</td>\n",
       "      <td id=\"T_90ba3_row3_col4\" class=\"data row3 col4\" >화성시 정남면 별장지 공장용지.창고용지.야적장.연수원. 요양원..</td>\n",
       "      <td id=\"T_90ba3_row3_col5\" class=\"data row3 col5\" >진행</td>\n",
       "      <td id=\"T_90ba3_row3_col6\" class=\"data row3 col6\" >228,200만원</td>\n",
       "      <td id=\"T_90ba3_row3_col7\" class=\"data row3 col7\" >대지 : 4,713㎡ (1,426평)\n",
       "건물 : 199㎡ (60평)</td>\n",
       "      <td id=\"T_90ba3_row3_col8\" class=\"data row3 col8\" >매매</td>\n",
       "      <td id=\"T_90ba3_row3_col9\" class=\"data row3 col9\" >\"총면적 1426평\" 토지의 모양을 살리고 지가를 상승시키기 위해 본..</td>\n",
       "      <td id=\"T_90ba3_row3_col10\" class=\"data row3 col10\" >419</td>\n",
       "      <td id=\"T_90ba3_row3_col11\" class=\"data row3 col11\" >http://www.okfactory.com/main/estat_view.php?board_data=aWR4PTcwMTMmc3RhcnRQYWdlPTI4OCZsaXN0Tm89NDkyMSZ0YWJsZT0mY29kZT0mc2VhcmNoX2l0ZW09JnNlYXJjaF9vcmRlcj0mc2VhcmNoX25vPQ==||&search_items=dHJhZGVfdHlwZT0mXyZ0cmFkZV9pbWc9Jl8mYXJlYV9pbWc9Jl8mc2VhcmNoX29yZGVyPSZfJnNlYXJjaF9vcGVuPSZfJnNlYXJjaF9ubz0mXyZzZWFyY2hfY29tYXBhbnk9Jl8mc2VhcmNoX25hbWU9Jl8mc2VhcmNoX2FkZHI9Jl8mc2VhcmNoX2Jsb2NrPSZfJnNlYXJjaF9sb3Q9Jl8mc2VhcmNoX29wZW49Jl8mdW5zaW5nY29kZTE9MTE4MTYzNjA4NSZfJnVuc2luZ2NvZGUyPTEyMTM3MDAxMTMmXyZ1bnNpbmdjb2RlMz0mXyZkaXNwbGF5X2ltZz0mXyZ1c2VyaWQ9Jl8mcHllb25nMT0mXyZweWVvbmcyPSZfJnB5b25nMT0mXyZweW9uZzI9Jl8mbW9uZXkxPSZfJm1vbmV5Mj0mXyZob2lzdDE9Jl8maG9pc3QyPSZfJnBvd2VyMT0mXyZwb3dlcjI9Jl8maGVpZ2h0MT0mXyZoZWlnaHQyPSZfJmNpdHk9Jl8mZ29vPSZfJmRvbmc9Jl8mc2l6ZXR5cGU9Jl8mc29ydD0=||</td>\n",
       "    </tr>\n",
       "    <tr>\n",
       "      <th id=\"T_90ba3_level0_row4\" class=\"row_heading level0 row4\" >368</th>\n",
       "      <td id=\"T_90ba3_row4_col0\" class=\"data row4 col0\" >경기도</td>\n",
       "      <td id=\"T_90ba3_row4_col1\" class=\"data row4 col1\" >화성시</td>\n",
       "      <td id=\"T_90ba3_row4_col2\" class=\"data row4 col2\" >정남면</td>\n",
       "      <td id=\"T_90ba3_row4_col3\" class=\"data row4 col3\" >공장-27.28 정밀/전기장비</td>\n",
       "      <td id=\"T_90ba3_row4_col4\" class=\"data row4 col4\" >IT, 전자부품 업종, 연구소/사옥빌딩(공장) 매각 [대지 54..</td>\n",
       "      <td id=\"T_90ba3_row4_col5\" class=\"data row4 col5\" >진행</td>\n",
       "      <td id=\"T_90ba3_row4_col6\" class=\"data row4 col6\" >380,000만원</td>\n",
       "      <td id=\"T_90ba3_row4_col7\" class=\"data row4 col7\" >대지 : 1,796㎡ (543평)\n",
       "건물 : 639㎡ (193평)</td>\n",
       "      <td id=\"T_90ba3_row4_col8\" class=\"data row4 col8\" >매매</td>\n",
       "      <td id=\"T_90ba3_row4_col9\" class=\"data row4 col9\" >◆ ARCHITECTURE IT, 반도체, 벤처사옥, 카페, 스크린골프,..</td>\n",
       "      <td id=\"T_90ba3_row4_col10\" class=\"data row4 col10\" >755</td>\n",
       "      <td id=\"T_90ba3_row4_col11\" class=\"data row4 col11\" >http://www.okfactory.com/main/estat_view.php?board_data=aWR4PTY5MTQmc3RhcnRQYWdlPTM4NCZsaXN0Tm89NDgyNSZ0YWJsZT0mY29kZT0mc2VhcmNoX2l0ZW09JnNlYXJjaF9vcmRlcj0mc2VhcmNoX25vPQ==||&search_items=dHJhZGVfdHlwZT0mXyZ0cmFkZV9pbWc9Jl8mYXJlYV9pbWc9Jl8mc2VhcmNoX29yZGVyPSZfJnNlYXJjaF9vcGVuPSZfJnNlYXJjaF9ubz0mXyZzZWFyY2hfY29tYXBhbnk9Jl8mc2VhcmNoX25hbWU9Jl8mc2VhcmNoX2FkZHI9Jl8mc2VhcmNoX2Jsb2NrPSZfJnNlYXJjaF9sb3Q9Jl8mc2VhcmNoX29wZW49Jl8mdW5zaW5nY29kZTE9MTE4MTYzNjA4NSZfJnVuc2luZ2NvZGUyPTEyMTM3MDAxMTMmXyZ1bnNpbmdjb2RlMz0mXyZkaXNwbGF5X2ltZz0mXyZ1c2VyaWQ9Jl8mcHllb25nMT0mXyZweWVvbmcyPSZfJnB5b25nMT0mXyZweW9uZzI9Jl8mbW9uZXkxPSZfJm1vbmV5Mj0mXyZob2lzdDE9Jl8maG9pc3QyPSZfJnBvd2VyMT0mXyZwb3dlcjI9Jl8maGVpZ2h0MT0mXyZoZWlnaHQyPSZfJmNpdHk9Jl8mZ29vPSZfJmRvbmc9Jl8mc2l6ZXR5cGU9Jl8mc29ydD0=||</td>\n",
       "    </tr>\n",
       "    <tr>\n",
       "      <th id=\"T_90ba3_level0_row5\" class=\"row_heading level0 row5\" >383</th>\n",
       "      <td id=\"T_90ba3_row5_col0\" class=\"data row5 col0\" >경기도</td>\n",
       "      <td id=\"T_90ba3_row5_col1\" class=\"data row5 col1\" >화성시</td>\n",
       "      <td id=\"T_90ba3_row5_col2\" class=\"data row5 col2\" >정남면</td>\n",
       "      <td id=\"T_90ba3_row5_col3\" class=\"data row5 col3\" >공장-16.33 기타소형/일반</td>\n",
       "      <td id=\"T_90ba3_row5_col4\" class=\"data row5 col4\" >정남IC 인근 대로변 공장/물류창고 [대지 3786평, 건물 1..</td>\n",
       "      <td id=\"T_90ba3_row5_col5\" class=\"data row5 col5\" >진행</td>\n",
       "      <td id=\"T_90ba3_row5_col6\" class=\"data row5 col6\" >1,240,000만원</td>\n",
       "      <td id=\"T_90ba3_row5_col7\" class=\"data row5 col7\" >대지 : 12,516㎡ (3,786평)\n",
       "건물 : 12,516㎡ (3,786평)</td>\n",
       "      <td id=\"T_90ba3_row5_col8\" class=\"data row5 col8\" >매매</td>\n",
       "      <td id=\"T_90ba3_row5_col9\" class=\"data row5 col9\" >정남IC 인근 대로변 공장/물류창고 [대지 3786평, 건물 1129 ..</td>\n",
       "      <td id=\"T_90ba3_row5_col10\" class=\"data row5 col10\" >393</td>\n",
       "      <td id=\"T_90ba3_row5_col11\" class=\"data row5 col11\" >http://www.okfactory.com/main/estat_view.php?board_data=aWR4PTY4OTcmc3RhcnRQYWdlPTM5NiZsaXN0Tm89NDgwOSZ0YWJsZT0mY29kZT0mc2VhcmNoX2l0ZW09JnNlYXJjaF9vcmRlcj0mc2VhcmNoX25vPQ==||&search_items=dHJhZGVfdHlwZT0mXyZ0cmFkZV9pbWc9Jl8mYXJlYV9pbWc9Jl8mc2VhcmNoX29yZGVyPSZfJnNlYXJjaF9vcGVuPSZfJnNlYXJjaF9ubz0mXyZzZWFyY2hfY29tYXBhbnk9Jl8mc2VhcmNoX25hbWU9Jl8mc2VhcmNoX2FkZHI9Jl8mc2VhcmNoX2Jsb2NrPSZfJnNlYXJjaF9sb3Q9Jl8mc2VhcmNoX29wZW49Jl8mdW5zaW5nY29kZTE9MTE4MTYzNjA4NSZfJnVuc2luZ2NvZGUyPTEyMTM3MDAxMTMmXyZ1bnNpbmdjb2RlMz0mXyZkaXNwbGF5X2ltZz0mXyZ1c2VyaWQ9Jl8mcHllb25nMT0mXyZweWVvbmcyPSZfJnB5b25nMT0mXyZweW9uZzI9Jl8mbW9uZXkxPSZfJm1vbmV5Mj0mXyZob2lzdDE9Jl8maG9pc3QyPSZfJnBvd2VyMT0mXyZwb3dlcjI9Jl8maGVpZ2h0MT0mXyZoZWlnaHQyPSZfJmNpdHk9Jl8mZ29vPSZfJmRvbmc9Jl8mc2l6ZXR5cGU9Jl8mc29ydD0=||</td>\n",
       "    </tr>\n",
       "    <tr>\n",
       "      <th id=\"T_90ba3_level0_row6\" class=\"row_heading level0 row6\" >545</th>\n",
       "      <td id=\"T_90ba3_row6_col0\" class=\"data row6 col0\" >경기도</td>\n",
       "      <td id=\"T_90ba3_row6_col1\" class=\"data row6 col1\" >화성시</td>\n",
       "      <td id=\"T_90ba3_row6_col2\" class=\"data row6 col2\" >정남면</td>\n",
       "      <td id=\"T_90ba3_row6_col3\" class=\"data row6 col3\" >공장-16.33 기타소형/일반</td>\n",
       "      <td id=\"T_90ba3_row6_col4\" class=\"data row6 col4\" >정남IC 바로 앞 소형공장 대지 300평, 건 60평, 평당 3..</td>\n",
       "      <td id=\"T_90ba3_row6_col5\" class=\"data row6 col5\" >진행</td>\n",
       "      <td id=\"T_90ba3_row6_col6\" class=\"data row6 col6\" >90,000만원</td>\n",
       "      <td id=\"T_90ba3_row6_col7\" class=\"data row6 col7\" >대지 : 992㎡ (300평)\n",
       "건물 : 199㎡ (60평)</td>\n",
       "      <td id=\"T_90ba3_row6_col8\" class=\"data row6 col8\" >매매</td>\n",
       "      <td id=\"T_90ba3_row6_col9\" class=\"data row6 col9\" >정남IC 바로 앞 소형공장 대지 300평, 건 60평, 평당 300만...</td>\n",
       "      <td id=\"T_90ba3_row6_col10\" class=\"data row6 col10\" >515</td>\n",
       "      <td id=\"T_90ba3_row6_col11\" class=\"data row6 col11\" >http://www.okfactory.com/main/estat_view.php?board_data=aWR4PTY3MTgmc3RhcnRQYWdlPTU3NiZsaXN0Tm89NDYzMiZ0YWJsZT0mY29kZT0mc2VhcmNoX2l0ZW09JnNlYXJjaF9vcmRlcj0mc2VhcmNoX25vPQ==||&search_items=dHJhZGVfdHlwZT0mXyZ0cmFkZV9pbWc9Jl8mYXJlYV9pbWc9Jl8mc2VhcmNoX29yZGVyPSZfJnNlYXJjaF9vcGVuPSZfJnNlYXJjaF9ubz0mXyZzZWFyY2hfY29tYXBhbnk9Jl8mc2VhcmNoX25hbWU9Jl8mc2VhcmNoX2FkZHI9Jl8mc2VhcmNoX2Jsb2NrPSZfJnNlYXJjaF9sb3Q9Jl8mc2VhcmNoX29wZW49Jl8mdW5zaW5nY29kZTE9MTE4MTYzNjA4NSZfJnVuc2luZ2NvZGUyPTEyMTM3MDAxMTMmXyZ1bnNpbmdjb2RlMz0mXyZkaXNwbGF5X2ltZz0mXyZ1c2VyaWQ9Jl8mcHllb25nMT0mXyZweWVvbmcyPSZfJnB5b25nMT0mXyZweW9uZzI9Jl8mbW9uZXkxPSZfJm1vbmV5Mj0mXyZob2lzdDE9Jl8maG9pc3QyPSZfJnBvd2VyMT0mXyZwb3dlcjI9Jl8maGVpZ2h0MT0mXyZoZWlnaHQyPSZfJmNpdHk9Jl8mZ29vPSZfJmRvbmc9Jl8mc2l6ZXR5cGU9Jl8mc29ydD0=||</td>\n",
       "    </tr>\n",
       "    <tr>\n",
       "      <th id=\"T_90ba3_level0_row7\" class=\"row_heading level0 row7\" >574</th>\n",
       "      <td id=\"T_90ba3_row7_col0\" class=\"data row7 col0\" >경기도</td>\n",
       "      <td id=\"T_90ba3_row7_col1\" class=\"data row7 col1\" >화성시</td>\n",
       "      <td id=\"T_90ba3_row7_col2\" class=\"data row7 col2\" >정남면</td>\n",
       "      <td id=\"T_90ba3_row7_col3\" class=\"data row7 col3\" >공장-16.33 기타소형/일반</td>\n",
       "      <td id=\"T_90ba3_row7_col4\" class=\"data row7 col4\" >봉담/남봉담IC 도시지역내 소형공장 급매각 대지 480평, 건 ..</td>\n",
       "      <td id=\"T_90ba3_row7_col5\" class=\"data row7 col5\" >진행</td>\n",
       "      <td id=\"T_90ba3_row7_col6\" class=\"data row7 col6\" >150,000만원</td>\n",
       "      <td id=\"T_90ba3_row7_col7\" class=\"data row7 col7\" >대지 : 1,585㎡ (479평)\n",
       "건물 : 790㎡ (239평)</td>\n",
       "      <td id=\"T_90ba3_row7_col8\" class=\"data row7 col8\" >매매</td>\n",
       "      <td id=\"T_90ba3_row7_col9\" class=\"data row7 col9\" >입지가 뛰어나 소형공장</td>\n",
       "      <td id=\"T_90ba3_row7_col10\" class=\"data row7 col10\" >1269</td>\n",
       "      <td id=\"T_90ba3_row7_col11\" class=\"data row7 col11\" >http://www.okfactory.com/main/estat_view.php?board_data=aWR4PTY2ODYmc3RhcnRQYWdlPTYwMCZsaXN0Tm89NDYwMiZ0YWJsZT0mY29kZT0mc2VhcmNoX2l0ZW09JnNlYXJjaF9vcmRlcj0mc2VhcmNoX25vPQ==||&search_items=dHJhZGVfdHlwZT0mXyZ0cmFkZV9pbWc9Jl8mYXJlYV9pbWc9Jl8mc2VhcmNoX29yZGVyPSZfJnNlYXJjaF9vcGVuPSZfJnNlYXJjaF9ubz0mXyZzZWFyY2hfY29tYXBhbnk9Jl8mc2VhcmNoX25hbWU9Jl8mc2VhcmNoX2FkZHI9Jl8mc2VhcmNoX2Jsb2NrPSZfJnNlYXJjaF9sb3Q9Jl8mc2VhcmNoX29wZW49Jl8mdW5zaW5nY29kZTE9MTE4MTYzNjA4NSZfJnVuc2luZ2NvZGUyPTEyMTM3MDAxMTMmXyZ1bnNpbmdjb2RlMz0mXyZkaXNwbGF5X2ltZz0mXyZ1c2VyaWQ9Jl8mcHllb25nMT0mXyZweWVvbmcyPSZfJnB5b25nMT0mXyZweW9uZzI9Jl8mbW9uZXkxPSZfJm1vbmV5Mj0mXyZob2lzdDE9Jl8maG9pc3QyPSZfJnBvd2VyMT0mXyZwb3dlcjI9Jl8maGVpZ2h0MT0mXyZoZWlnaHQyPSZfJmNpdHk9Jl8mZ29vPSZfJmRvbmc9Jl8mc2l6ZXR5cGU9Jl8mc29ydD0=||</td>\n",
       "    </tr>\n",
       "    <tr>\n",
       "      <th id=\"T_90ba3_level0_row8\" class=\"row_heading level0 row8\" >640</th>\n",
       "      <td id=\"T_90ba3_row8_col0\" class=\"data row8 col0\" >경기도</td>\n",
       "      <td id=\"T_90ba3_row8_col1\" class=\"data row8 col1\" >화성시</td>\n",
       "      <td id=\"T_90ba3_row8_col2\" class=\"data row8 col2\" >정남면</td>\n",
       "      <td id=\"T_90ba3_row8_col3\" class=\"data row8 col3\" >공장-22 고무/플라스틱</td>\n",
       "      <td id=\"T_90ba3_row8_col4\" class=\"data row8 col4\" >화성시 정남면 요지 신축 소형공장 급매각 19억 [대지 633..</td>\n",
       "      <td id=\"T_90ba3_row8_col5\" class=\"data row8 col5\" >진행</td>\n",
       "      <td id=\"T_90ba3_row8_col6\" class=\"data row8 col6\" >190,000만원</td>\n",
       "      <td id=\"T_90ba3_row8_col7\" class=\"data row8 col7\" >대지 : 2,093㎡ (633평)\n",
       "건물 : 595㎡ (180평)</td>\n",
       "      <td id=\"T_90ba3_row8_col8\" class=\"data row8 col8\" >매매</td>\n",
       "      <td id=\"T_90ba3_row8_col9\" class=\"data row8 col9\" >건물 3개동, 각 60평 , 3개동  층고 9.6미터  위..</td>\n",
       "      <td id=\"T_90ba3_row8_col10\" class=\"data row8 col10\" >1262</td>\n",
       "      <td id=\"T_90ba3_row8_col11\" class=\"data row8 col11\" >http://www.okfactory.com/main/estat_view.php?board_data=aWR4PTY2MTEmc3RhcnRQYWdlPTY3MiZsaXN0Tm89NDUzMSZ0YWJsZT0mY29kZT0mc2VhcmNoX2l0ZW09JnNlYXJjaF9vcmRlcj0mc2VhcmNoX25vPQ==||&search_items=dHJhZGVfdHlwZT0mXyZ0cmFkZV9pbWc9Jl8mYXJlYV9pbWc9Jl8mc2VhcmNoX29yZGVyPSZfJnNlYXJjaF9vcGVuPSZfJnNlYXJjaF9ubz0mXyZzZWFyY2hfY29tYXBhbnk9Jl8mc2VhcmNoX25hbWU9Jl8mc2VhcmNoX2FkZHI9Jl8mc2VhcmNoX2Jsb2NrPSZfJnNlYXJjaF9sb3Q9Jl8mc2VhcmNoX29wZW49Jl8mdW5zaW5nY29kZTE9MTE4MTYzNjA4NSZfJnVuc2luZ2NvZGUyPTEyMTM3MDAxMTMmXyZ1bnNpbmdjb2RlMz0mXyZkaXNwbGF5X2ltZz0mXyZ1c2VyaWQ9Jl8mcHllb25nMT0mXyZweWVvbmcyPSZfJnB5b25nMT0mXyZweW9uZzI9Jl8mbW9uZXkxPSZfJm1vbmV5Mj0mXyZob2lzdDE9Jl8maG9pc3QyPSZfJnBvd2VyMT0mXyZwb3dlcjI9Jl8maGVpZ2h0MT0mXyZoZWlnaHQyPSZfJmNpdHk9Jl8mZ29vPSZfJmRvbmc9Jl8mc2l6ZXR5cGU9Jl8mc29ydD0=||</td>\n",
       "    </tr>\n",
       "    <tr>\n",
       "      <th id=\"T_90ba3_level0_row9\" class=\"row_heading level0 row9\" >720</th>\n",
       "      <td id=\"T_90ba3_row9_col0\" class=\"data row9 col0\" >경기도</td>\n",
       "      <td id=\"T_90ba3_row9_col1\" class=\"data row9 col1\" >화성시</td>\n",
       "      <td id=\"T_90ba3_row9_col2\" class=\"data row9 col2\" >정남면</td>\n",
       "      <td id=\"T_90ba3_row9_col3\" class=\"data row9 col3\" >토지-공장.창고부지</td>\n",
       "      <td id=\"T_90ba3_row9_col4\" class=\"data row9 col4\" >화성 정남면 신축제조장(부지)매매 대737평(도로 67평 포함)..</td>\n",
       "      <td id=\"T_90ba3_row9_col5\" class=\"data row9 col5\" >진행</td>\n",
       "      <td id=\"T_90ba3_row9_col6\" class=\"data row9 col6\" >95,810만원</td>\n",
       "      <td id=\"T_90ba3_row9_col7\" class=\"data row9 col7\" >대지 : 2,436㎡ (737평)</td>\n",
       "      <td id=\"T_90ba3_row9_col8\" class=\"data row9 col8\" >매매</td>\n",
       "      <td id=\"T_90ba3_row9_col9\" class=\"data row9 col9\" >화성 정남면 신축제조장(부지)매매 대737평(도로 67평 포함) 130만..</td>\n",
       "      <td id=\"T_90ba3_row9_col10\" class=\"data row9 col10\" >791</td>\n",
       "      <td id=\"T_90ba3_row9_col11\" class=\"data row9 col11\" >http://www.okfactory.com/main/estat_view.php?board_data=aWR4PTY1MjUmc3RhcnRQYWdlPTc1NiZsaXN0Tm89NDQ0NiZ0YWJsZT0mY29kZT0mc2VhcmNoX2l0ZW09JnNlYXJjaF9vcmRlcj0mc2VhcmNoX25vPQ==||&search_items=dHJhZGVfdHlwZT0mXyZ0cmFkZV9pbWc9Jl8mYXJlYV9pbWc9Jl8mc2VhcmNoX29yZGVyPSZfJnNlYXJjaF9vcGVuPSZfJnNlYXJjaF9ubz0mXyZzZWFyY2hfY29tYXBhbnk9Jl8mc2VhcmNoX25hbWU9Jl8mc2VhcmNoX2FkZHI9Jl8mc2VhcmNoX2Jsb2NrPSZfJnNlYXJjaF9sb3Q9Jl8mc2VhcmNoX29wZW49Jl8mdW5zaW5nY29kZTE9MTE4MTYzNjA4NSZfJnVuc2luZ2NvZGUyPTEyMTM3MDAxMTMmXyZ1bnNpbmdjb2RlMz0mXyZkaXNwbGF5X2ltZz0mXyZ1c2VyaWQ9Jl8mcHllb25nMT0mXyZweWVvbmcyPSZfJnB5b25nMT0mXyZweW9uZzI9Jl8mbW9uZXkxPSZfJm1vbmV5Mj0mXyZob2lzdDE9Jl8maG9pc3QyPSZfJnBvd2VyMT0mXyZwb3dlcjI9Jl8maGVpZ2h0MT0mXyZoZWlnaHQyPSZfJmNpdHk9Jl8mZ29vPSZfJmRvbmc9Jl8mc2l6ZXR5cGU9Jl8mc29ydD0=||</td>\n",
       "    </tr>\n",
       "    <tr>\n",
       "      <th id=\"T_90ba3_level0_row10\" class=\"row_heading level0 row10\" >1062</th>\n",
       "      <td id=\"T_90ba3_row10_col0\" class=\"data row10 col0\" >경기도</td>\n",
       "      <td id=\"T_90ba3_row10_col1\" class=\"data row10 col1\" >화성시</td>\n",
       "      <td id=\"T_90ba3_row10_col2\" class=\"data row10 col2\" >정남면</td>\n",
       "      <td id=\"T_90ba3_row10_col3\" class=\"data row10 col3\" >공장-29.30 기계장비/자동차</td>\n",
       "      <td id=\"T_90ba3_row10_col4\" class=\"data row10 col4\" >화성시 정남면 소재 소형공장 60평*2동 120평 임대..</td>\n",
       "      <td id=\"T_90ba3_row10_col5\" class=\"data row10 col5\" >진행</td>\n",
       "      <td id=\"T_90ba3_row10_col6\" class=\"data row10 col6\" >220만원</td>\n",
       "      <td id=\"T_90ba3_row10_col7\" class=\"data row10 col7\" >대지 : 675㎡ (204평)\n",
       "건물 : 396㎡ (120평)</td>\n",
       "      <td id=\"T_90ba3_row10_col8\" class=\"data row10 col8\" >월세</td>\n",
       "      <td id=\"T_90ba3_row10_col9\" class=\"data row10 col9\" >60평 2동 120평  기타 천막창고 등..</td>\n",
       "      <td id=\"T_90ba3_row10_col10\" class=\"data row10 col10\" >927</td>\n",
       "      <td id=\"T_90ba3_row10_col11\" class=\"data row10 col11\" >http://www.okfactory.com/main/estat_view.php?board_data=aWR4PTYxNjgmc3RhcnRQYWdlPTExMTYmbGlzdE5vPTQwOTUmdGFibGU9JmNvZGU9JnNlYXJjaF9pdGVtPSZzZWFyY2hfb3JkZXI9JnNlYXJjaF9ubz0=||&search_items=dHJhZGVfdHlwZT0mXyZ0cmFkZV9pbWc9Jl8mYXJlYV9pbWc9Jl8mc2VhcmNoX29yZGVyPSZfJnNlYXJjaF9vcGVuPSZfJnNlYXJjaF9ubz0mXyZzZWFyY2hfY29tYXBhbnk9Jl8mc2VhcmNoX25hbWU9Jl8mc2VhcmNoX2FkZHI9Jl8mc2VhcmNoX2Jsb2NrPSZfJnNlYXJjaF9sb3Q9Jl8mc2VhcmNoX29wZW49Jl8mdW5zaW5nY29kZTE9MTE4MTYzNjA4NSZfJnVuc2luZ2NvZGUyPTEyMTM3MDAxMTMmXyZ1bnNpbmdjb2RlMz0mXyZkaXNwbGF5X2ltZz0mXyZ1c2VyaWQ9Jl8mcHllb25nMT0mXyZweWVvbmcyPSZfJnB5b25nMT0mXyZweW9uZzI9Jl8mbW9uZXkxPSZfJm1vbmV5Mj0mXyZob2lzdDE9Jl8maG9pc3QyPSZfJnBvd2VyMT0mXyZwb3dlcjI9Jl8maGVpZ2h0MT0mXyZoZWlnaHQyPSZfJmNpdHk9Jl8mZ29vPSZfJmRvbmc9Jl8mc2l6ZXR5cGU9Jl8mc29ydD0=||</td>\n",
       "    </tr>\n",
       "    <tr>\n",
       "      <th id=\"T_90ba3_level0_row11\" class=\"row_heading level0 row11\" >1560</th>\n",
       "      <td id=\"T_90ba3_row11_col0\" class=\"data row11 col0\" >경기도</td>\n",
       "      <td id=\"T_90ba3_row11_col1\" class=\"data row11 col1\" >화성시</td>\n",
       "      <td id=\"T_90ba3_row11_col2\" class=\"data row11 col2\" >정남면</td>\n",
       "      <td id=\"T_90ba3_row11_col3\" class=\"data row11 col3\" >nan</td>\n",
       "      <td id=\"T_90ba3_row11_col4\" class=\"data row11 col4\" >화성정남 야적장임대 1100평. 잡종지..</td>\n",
       "      <td id=\"T_90ba3_row11_col5\" class=\"data row11 col5\" >진행</td>\n",
       "      <td id=\"T_90ba3_row11_col6\" class=\"data row11 col6\" >550만원</td>\n",
       "      <td id=\"T_90ba3_row11_col7\" class=\"data row11 col7\" >대지 : 3,636㎡ (1,100평)\n",
       "건물 : 17㎡ (5평)</td>\n",
       "      <td id=\"T_90ba3_row11_col8\" class=\"data row11 col8\" >월세</td>\n",
       "      <td id=\"T_90ba3_row11_col9\" class=\"data row11 col9\" >나대지 임대 1100평  계획관리지역내 잡종지 입니다.  전기..</td>\n",
       "      <td id=\"T_90ba3_row11_col10\" class=\"data row11 col10\" >389</td>\n",
       "      <td id=\"T_90ba3_row11_col11\" class=\"data row11 col11\" >http://www.okfactory.com/main/estat_view.php?board_data=aWR4PTYwMTImc3RhcnRQYWdlPTE2MjAmbGlzdE5vPTM1OTImdGFibGU9JmNvZGU9JnNlYXJjaF9pdGVtPSZzZWFyY2hfb3JkZXI9JnNlYXJjaF9ubz0=||&search_items=dHJhZGVfdHlwZT0mXyZ0cmFkZV9pbWc9Jl8mYXJlYV9pbWc9Jl8mc2VhcmNoX29yZGVyPSZfJnNlYXJjaF9vcGVuPSZfJnNlYXJjaF9ubz0mXyZzZWFyY2hfY29tYXBhbnk9Jl8mc2VhcmNoX25hbWU9Jl8mc2VhcmNoX2FkZHI9Jl8mc2VhcmNoX2Jsb2NrPSZfJnNlYXJjaF9sb3Q9Jl8mc2VhcmNoX29wZW49Jl8mdW5zaW5nY29kZTE9MTE4MTYzNjA4NSZfJnVuc2luZ2NvZGUyPTEyMTM3MDAxMTMmXyZ1bnNpbmdjb2RlMz0mXyZkaXNwbGF5X2ltZz0mXyZ1c2VyaWQ9Jl8mcHllb25nMT0mXyZweWVvbmcyPSZfJnB5b25nMT0mXyZweW9uZzI9Jl8mbW9uZXkxPSZfJm1vbmV5Mj0mXyZob2lzdDE9Jl8maG9pc3QyPSZfJnBvd2VyMT0mXyZwb3dlcjI9Jl8maGVpZ2h0MT0mXyZoZWlnaHQyPSZfJmNpdHk9Jl8mZ29vPSZfJmRvbmc9Jl8mc2l6ZXR5cGU9Jl8mc29ydD0=||</td>\n",
       "    </tr>\n",
       "    <tr>\n",
       "      <th id=\"T_90ba3_level0_row12\" class=\"row_heading level0 row12\" >1865</th>\n",
       "      <td id=\"T_90ba3_row12_col0\" class=\"data row12 col0\" >경기도</td>\n",
       "      <td id=\"T_90ba3_row12_col1\" class=\"data row12 col1\" >화성시</td>\n",
       "      <td id=\"T_90ba3_row12_col2\" class=\"data row12 col2\" >정남면</td>\n",
       "      <td id=\"T_90ba3_row12_col3\" class=\"data row12 col3\" >토지-공장.창고부지</td>\n",
       "      <td id=\"T_90ba3_row12_col4\" class=\"data row12 col4\" >화성정남IC/향남IC 1,025평</td>\n",
       "      <td id=\"T_90ba3_row12_col5\" class=\"data row12 col5\" >진행</td>\n",
       "      <td id=\"T_90ba3_row12_col6\" class=\"data row12 col6\" >110만원</td>\n",
       "      <td id=\"T_90ba3_row12_col7\" class=\"data row12 col7\" >대지 : 3,388㎡ (1,025평)</td>\n",
       "      <td id=\"T_90ba3_row12_col8\" class=\"data row12 col8\" >매매</td>\n",
       "      <td id=\"T_90ba3_row12_col9\" class=\"data row12 col9\" >건폐율 40%, 계획관리지역내 공장부지  향남IC 3km, 정남..</td>\n",
       "      <td id=\"T_90ba3_row12_col10\" class=\"data row12 col10\" >2736</td>\n",
       "      <td id=\"T_90ba3_row12_col11\" class=\"data row12 col11\" >http://www.okfactory.com/main/estat_view.php?board_data=aWR4PTU2MDQmc3RhcnRQYWdlPTE5MjAmbGlzdE5vPTMyODcmdGFibGU9JmNvZGU9JnNlYXJjaF9pdGVtPSZzZWFyY2hfb3JkZXI9JnNlYXJjaF9ubz0=||&search_items=dHJhZGVfdHlwZT0mXyZ0cmFkZV9pbWc9Jl8mYXJlYV9pbWc9Jl8mc2VhcmNoX29yZGVyPSZfJnNlYXJjaF9vcGVuPSZfJnNlYXJjaF9ubz0mXyZzZWFyY2hfY29tYXBhbnk9Jl8mc2VhcmNoX25hbWU9Jl8mc2VhcmNoX2FkZHI9Jl8mc2VhcmNoX2Jsb2NrPSZfJnNlYXJjaF9sb3Q9Jl8mc2VhcmNoX29wZW49Jl8mdW5zaW5nY29kZTE9MTE4MTYzNjA4NSZfJnVuc2luZ2NvZGUyPTEyMTM3MDAxMTMmXyZ1bnNpbmdjb2RlMz0mXyZkaXNwbGF5X2ltZz0mXyZ1c2VyaWQ9Jl8mcHllb25nMT0mXyZweWVvbmcyPSZfJnB5b25nMT0mXyZweW9uZzI9Jl8mbW9uZXkxPSZfJm1vbmV5Mj0mXyZob2lzdDE9Jl8maG9pc3QyPSZfJnBvd2VyMT0mXyZwb3dlcjI9Jl8maGVpZ2h0MT0mXyZoZWlnaHQyPSZfJmNpdHk9Jl8mZ29vPSZfJmRvbmc9Jl8mc2l6ZXR5cGU9Jl8mc29ydD0=||</td>\n",
       "    </tr>\n",
       "    <tr>\n",
       "      <th id=\"T_90ba3_level0_row13\" class=\"row_heading level0 row13\" >1866</th>\n",
       "      <td id=\"T_90ba3_row13_col0\" class=\"data row13 col0\" >경기도</td>\n",
       "      <td id=\"T_90ba3_row13_col1\" class=\"data row13 col1\" >화성시</td>\n",
       "      <td id=\"T_90ba3_row13_col2\" class=\"data row13 col2\" >정남면</td>\n",
       "      <td id=\"T_90ba3_row13_col3\" class=\"data row13 col3\" >토지-공장.창고부지</td>\n",
       "      <td id=\"T_90ba3_row13_col4\" class=\"data row13 col4\" >화성정남IC/향남IC 599평</td>\n",
       "      <td id=\"T_90ba3_row13_col5\" class=\"data row13 col5\" >진행</td>\n",
       "      <td id=\"T_90ba3_row13_col6\" class=\"data row13 col6\" >110만원</td>\n",
       "      <td id=\"T_90ba3_row13_col7\" class=\"data row13 col7\" >대지 : 1,980㎡ (599평)</td>\n",
       "      <td id=\"T_90ba3_row13_col8\" class=\"data row13 col8\" >매매</td>\n",
       "      <td id=\"T_90ba3_row13_col9\" class=\"data row13 col9\" >건폐율 40%, 계획관리지역내 공장부지  향남IC 3km, 정남..</td>\n",
       "      <td id=\"T_90ba3_row13_col10\" class=\"data row13 col10\" >2835</td>\n",
       "      <td id=\"T_90ba3_row13_col11\" class=\"data row13 col11\" >http://www.okfactory.com/main/estat_view.php?board_data=aWR4PTU2MDUmc3RhcnRQYWdlPTE5MjAmbGlzdE5vPTMyODYmdGFibGU9JmNvZGU9JnNlYXJjaF9pdGVtPSZzZWFyY2hfb3JkZXI9JnNlYXJjaF9ubz0=||&search_items=dHJhZGVfdHlwZT0mXyZ0cmFkZV9pbWc9Jl8mYXJlYV9pbWc9Jl8mc2VhcmNoX29yZGVyPSZfJnNlYXJjaF9vcGVuPSZfJnNlYXJjaF9ubz0mXyZzZWFyY2hfY29tYXBhbnk9Jl8mc2VhcmNoX25hbWU9Jl8mc2VhcmNoX2FkZHI9Jl8mc2VhcmNoX2Jsb2NrPSZfJnNlYXJjaF9sb3Q9Jl8mc2VhcmNoX29wZW49Jl8mdW5zaW5nY29kZTE9MTE4MTYzNjA4NSZfJnVuc2luZ2NvZGUyPTEyMTM3MDAxMTMmXyZ1bnNpbmdjb2RlMz0mXyZkaXNwbGF5X2ltZz0mXyZ1c2VyaWQ9Jl8mcHllb25nMT0mXyZweWVvbmcyPSZfJnB5b25nMT0mXyZweW9uZzI9Jl8mbW9uZXkxPSZfJm1vbmV5Mj0mXyZob2lzdDE9Jl8maG9pc3QyPSZfJnBvd2VyMT0mXyZwb3dlcjI9Jl8maGVpZ2h0MT0mXyZoZWlnaHQyPSZfJmNpdHk9Jl8mZ29vPSZfJmRvbmc9Jl8mc2l6ZXR5cGU9Jl8mc29ydD0=||</td>\n",
       "    </tr>\n",
       "    <tr>\n",
       "      <th id=\"T_90ba3_level0_row14\" class=\"row_heading level0 row14\" >2883</th>\n",
       "      <td id=\"T_90ba3_row14_col0\" class=\"data row14 col0\" >경기도</td>\n",
       "      <td id=\"T_90ba3_row14_col1\" class=\"data row14 col1\" >화성시</td>\n",
       "      <td id=\"T_90ba3_row14_col2\" class=\"data row14 col2\" >정남면</td>\n",
       "      <td id=\"T_90ba3_row14_col3\" class=\"data row14 col3\" >공장-29.30 금형/사출</td>\n",
       "      <td id=\"T_90ba3_row14_col4\" class=\"data row14 col4\" >사출프라스틱2차로변</td>\n",
       "      <td id=\"T_90ba3_row14_col5\" class=\"data row14 col5\" >진행</td>\n",
       "      <td id=\"T_90ba3_row14_col6\" class=\"data row14 col6\" >205,000만원</td>\n",
       "      <td id=\"T_90ba3_row14_col7\" class=\"data row14 col7\" >대지 : 2,711㎡ (820평)\n",
       "건물 : 1,256㎡ (380평)</td>\n",
       "      <td id=\"T_90ba3_row14_col8\" class=\"data row14 col8\" >매매</td>\n",
       "      <td id=\"T_90ba3_row14_col9\" class=\"data row14 col9\" >동력 풍부한 프라스틱사출공장 매매  2차로변에 바로 접함  ..</td>\n",
       "      <td id=\"T_90ba3_row14_col10\" class=\"data row14 col10\" >2225</td>\n",
       "      <td id=\"T_90ba3_row14_col11\" class=\"data row14 col11\" >http://www.okfactory.com/main/estat_view.php?board_data=aWR4PTQxODYmc3RhcnRQYWdlPTI5NDAmbGlzdE5vPTIyNjgmdGFibGU9JmNvZGU9JnNlYXJjaF9pdGVtPSZzZWFyY2hfb3JkZXI9JnNlYXJjaF9ubz0=||&search_items=dHJhZGVfdHlwZT0mXyZ0cmFkZV9pbWc9Jl8mYXJlYV9pbWc9Jl8mc2VhcmNoX29yZGVyPSZfJnNlYXJjaF9vcGVuPSZfJnNlYXJjaF9ubz0mXyZzZWFyY2hfY29tYXBhbnk9Jl8mc2VhcmNoX25hbWU9Jl8mc2VhcmNoX2FkZHI9Jl8mc2VhcmNoX2Jsb2NrPSZfJnNlYXJjaF9sb3Q9Jl8mc2VhcmNoX29wZW49Jl8mdW5zaW5nY29kZTE9MTE4MTYzNjA4NSZfJnVuc2luZ2NvZGUyPTEyMTM3MDAxMTMmXyZ1bnNpbmdjb2RlMz0mXyZkaXNwbGF5X2ltZz0mXyZ1c2VyaWQ9Jl8mcHllb25nMT0mXyZweWVvbmcyPSZfJnB5b25nMT0mXyZweW9uZzI9Jl8mbW9uZXkxPSZfJm1vbmV5Mj0mXyZob2lzdDE9Jl8maG9pc3QyPSZfJnBvd2VyMT0mXyZwb3dlcjI9Jl8maGVpZ2h0MT0mXyZoZWlnaHQyPSZfJmNpdHk9Jl8mZ29vPSZfJmRvbmc9Jl8mc2l6ZXR5cGU9Jl8mc29ydD0=||</td>\n",
       "    </tr>\n",
       "    <tr>\n",
       "      <th id=\"T_90ba3_level0_row15\" class=\"row_heading level0 row15\" >2916</th>\n",
       "      <td id=\"T_90ba3_row15_col0\" class=\"data row15 col0\" >경기도</td>\n",
       "      <td id=\"T_90ba3_row15_col1\" class=\"data row15 col1\" >화성시</td>\n",
       "      <td id=\"T_90ba3_row15_col2\" class=\"data row15 col2\" >정남면</td>\n",
       "      <td id=\"T_90ba3_row15_col3\" class=\"data row15 col3\" >nan</td>\n",
       "      <td id=\"T_90ba3_row15_col4\" class=\"data row15 col4\" >화성정남공장경매</td>\n",
       "      <td id=\"T_90ba3_row15_col5\" class=\"data row15 col5\" >진행</td>\n",
       "      <td id=\"T_90ba3_row15_col6\" class=\"data row15 col6\" >195,300만원</td>\n",
       "      <td id=\"T_90ba3_row15_col7\" class=\"data row15 col7\" >대지 : 5,243㎡ (1,586평)\n",
       "건물 : 1,398㎡ (423평)</td>\n",
       "      <td id=\"T_90ba3_row15_col8\" class=\"data row15 col8\" >매매</td>\n",
       "      <td id=\"T_90ba3_row15_col9\" class=\"data row15 col9\" >3) 형태 및 이용상태=ㅁ 기호(1,4,8) 부정형의 평탄한 토지로 기호..</td>\n",
       "      <td id=\"T_90ba3_row15_col10\" class=\"data row15 col10\" >2064</td>\n",
       "      <td id=\"T_90ba3_row15_col11\" class=\"data row15 col11\" >http://www.okfactory.com/main/estat_view.php?board_data=aWR4PTQxMTQmc3RhcnRQYWdlPTI5NzYmbGlzdE5vPTIyMzUmdGFibGU9JmNvZGU9JnNlYXJjaF9pdGVtPSZzZWFyY2hfb3JkZXI9JnNlYXJjaF9ubz0=||&search_items=dHJhZGVfdHlwZT0mXyZ0cmFkZV9pbWc9Jl8mYXJlYV9pbWc9Jl8mc2VhcmNoX29yZGVyPSZfJnNlYXJjaF9vcGVuPSZfJnNlYXJjaF9ubz0mXyZzZWFyY2hfY29tYXBhbnk9Jl8mc2VhcmNoX25hbWU9Jl8mc2VhcmNoX2FkZHI9Jl8mc2VhcmNoX2Jsb2NrPSZfJnNlYXJjaF9sb3Q9Jl8mc2VhcmNoX29wZW49Jl8mdW5zaW5nY29kZTE9MTE4MTYzNjA4NSZfJnVuc2luZ2NvZGUyPTEyMTM3MDAxMTMmXyZ1bnNpbmdjb2RlMz0mXyZkaXNwbGF5X2ltZz0mXyZ1c2VyaWQ9Jl8mcHllb25nMT0mXyZweWVvbmcyPSZfJnB5b25nMT0mXyZweW9uZzI9Jl8mbW9uZXkxPSZfJm1vbmV5Mj0mXyZob2lzdDE9Jl8maG9pc3QyPSZfJnBvd2VyMT0mXyZwb3dlcjI9Jl8maGVpZ2h0MT0mXyZoZWlnaHQyPSZfJmNpdHk9Jl8mZ29vPSZfJmRvbmc9Jl8mc2l6ZXR5cGU9Jl8mc29ydD0=||</td>\n",
       "    </tr>\n",
       "    <tr>\n",
       "      <th id=\"T_90ba3_level0_row16\" class=\"row_heading level0 row16\" >2936</th>\n",
       "      <td id=\"T_90ba3_row16_col0\" class=\"data row16 col0\" >경기도</td>\n",
       "      <td id=\"T_90ba3_row16_col1\" class=\"data row16 col1\" >화성시</td>\n",
       "      <td id=\"T_90ba3_row16_col2\" class=\"data row16 col2\" >정남면</td>\n",
       "      <td id=\"T_90ba3_row16_col3\" class=\"data row16 col3\" >공장-27.28 정밀/전기장비</td>\n",
       "      <td id=\"T_90ba3_row16_col4\" class=\"data row16 col4\" >정남소재/사출압출공장</td>\n",
       "      <td id=\"T_90ba3_row16_col5\" class=\"data row16 col5\" >진행</td>\n",
       "      <td id=\"T_90ba3_row16_col6\" class=\"data row16 col6\" >200,000만원</td>\n",
       "      <td id=\"T_90ba3_row16_col7\" class=\"data row16 col7\" >대지 : 2,727㎡ (825평)\n",
       "건물 : 1,058㎡ (320평)</td>\n",
       "      <td id=\"T_90ba3_row16_col8\" class=\"data row16 col8\" >매매</td>\n",
       "      <td id=\"T_90ba3_row16_col9\" class=\"data row16 col9\" >화성시 정남면 소재 2차로변의 반듯한 공장  전력 400kw 이상..</td>\n",
       "      <td id=\"T_90ba3_row16_col10\" class=\"data row16 col10\" >2612</td>\n",
       "      <td id=\"T_90ba3_row16_col11\" class=\"data row16 col11\" >http://www.okfactory.com/main/estat_view.php?board_data=aWR4PTQxMzQmc3RhcnRQYWdlPTI5ODgmbGlzdE5vPTIyMTUmdGFibGU9JmNvZGU9JnNlYXJjaF9pdGVtPSZzZWFyY2hfb3JkZXI9JnNlYXJjaF9ubz0=||&search_items=dHJhZGVfdHlwZT0mXyZ0cmFkZV9pbWc9Jl8mYXJlYV9pbWc9Jl8mc2VhcmNoX29yZGVyPSZfJnNlYXJjaF9vcGVuPSZfJnNlYXJjaF9ubz0mXyZzZWFyY2hfY29tYXBhbnk9Jl8mc2VhcmNoX25hbWU9Jl8mc2VhcmNoX2FkZHI9Jl8mc2VhcmNoX2Jsb2NrPSZfJnNlYXJjaF9sb3Q9Jl8mc2VhcmNoX29wZW49Jl8mdW5zaW5nY29kZTE9MTE4MTYzNjA4NSZfJnVuc2luZ2NvZGUyPTEyMTM3MDAxMTMmXyZ1bnNpbmdjb2RlMz0mXyZkaXNwbGF5X2ltZz0mXyZ1c2VyaWQ9Jl8mcHllb25nMT0mXyZweWVvbmcyPSZfJnB5b25nMT0mXyZweW9uZzI9Jl8mbW9uZXkxPSZfJm1vbmV5Mj0mXyZob2lzdDE9Jl8maG9pc3QyPSZfJnBvd2VyMT0mXyZwb3dlcjI9Jl8maGVpZ2h0MT0mXyZoZWlnaHQyPSZfJmNpdHk9Jl8mZ29vPSZfJmRvbmc9Jl8mc2l6ZXR5cGU9Jl8mc29ydD0=||</td>\n",
       "    </tr>\n",
       "    <tr>\n",
       "      <th id=\"T_90ba3_level0_row17\" class=\"row_heading level0 row17\" >5254</th>\n",
       "      <td id=\"T_90ba3_row17_col0\" class=\"data row17 col0\" >경기도</td>\n",
       "      <td id=\"T_90ba3_row17_col1\" class=\"data row17 col1\" >화성시</td>\n",
       "      <td id=\"T_90ba3_row17_col2\" class=\"data row17 col2\" >정남면</td>\n",
       "      <td id=\"T_90ba3_row17_col3\" class=\"data row17 col3\" >도로망_나들목(IC)이 가깝습니다.</td>\n",
       "      <td id=\"T_90ba3_row17_col4\" class=\"data row17 col4\" >총1층 / 1층\n",
       "방수 0개</td>\n",
       "      <td id=\"T_90ba3_row17_col5\" class=\"data row17 col5\" >진행</td>\n",
       "      <td id=\"T_90ba3_row17_col6\" class=\"data row17 col6\" >매:58,000만</td>\n",
       "      <td id=\"T_90ba3_row17_col7\" class=\"data row17 col7\" >  연  : 198.35㎡\n",
       "토지 : 558.02㎡</td>\n",
       "      <td id=\"T_90ba3_row17_col8\" class=\"data row17 col8\" >매:58,000만</td>\n",
       "      <td id=\"T_90ba3_row17_col9\" class=\"data row17 col9\" >주차 가능</td>\n",
       "      <td id=\"T_90ba3_row17_col10\" class=\"data row17 col10\" >2023-07-15\n",
       "76</td>\n",
       "      <td id=\"T_90ba3_row17_col11\" class=\"data row17 col11\" >https://www.bd119.com/realty/realty_detail.asp?regnumber=432904&search_mode=mamul_list</td>\n",
       "    </tr>\n",
       "    <tr>\n",
       "      <th id=\"T_90ba3_level0_row18\" class=\"row_heading level0 row18\" >5573</th>\n",
       "      <td id=\"T_90ba3_row18_col0\" class=\"data row18 col0\" >경기도</td>\n",
       "      <td id=\"T_90ba3_row18_col1\" class=\"data row18 col1\" >화성시</td>\n",
       "      <td id=\"T_90ba3_row18_col2\" class=\"data row18 col2\" >정남면</td>\n",
       "      <td id=\"T_90ba3_row18_col3\" class=\"data row18 col3\" >도로망_나들목(IC)이 가깝습니다.</td>\n",
       "      <td id=\"T_90ba3_row18_col4\" class=\"data row18 col4\" >총2층 / 건물전체층\n",
       "방수 0개</td>\n",
       "      <td id=\"T_90ba3_row18_col5\" class=\"data row18 col5\" >진행</td>\n",
       "      <td id=\"T_90ba3_row18_col6\" class=\"data row18 col6\" >매:560,000만</td>\n",
       "      <td id=\"T_90ba3_row18_col7\" class=\"data row18 col7\" >  연  : 4335㎡\n",
       "토지 : 12115㎡</td>\n",
       "      <td id=\"T_90ba3_row18_col8\" class=\"data row18 col8\" >매:560,000만</td>\n",
       "      <td id=\"T_90ba3_row18_col9\" class=\"data row18 col9\" >-11-30\n",
       "주차 가능</td>\n",
       "      <td id=\"T_90ba3_row18_col10\" class=\"data row18 col10\" >2015-04-04\n",
       "2541</td>\n",
       "      <td id=\"T_90ba3_row18_col11\" class=\"data row18 col11\" >https://www.bd119.com/realty/realty_detail.asp?regnumber=347415&search_mode=mamul_list</td>\n",
       "    </tr>\n",
       "  </tbody>\n",
       "</table>\n"
      ],
      "text/plain": [
       "<pandas.io.formats.style.Styler at 0x245e2f30e10>"
      ]
     },
     "metadata": {},
     "output_type": "display_data"
    }
   ],
   "source": [
    "# 조건에 맞는 행 필터링\n",
    "filtered_factories = Factories[\n",
    "    (Factories['매물위치(1)'] == korean_name) & \n",
    "    (Factories['매물위치(3)'] == predicted_class)\n",
    "]\n",
    "\n",
    "# 필요한 열만 선택하여 필터링된 데이터프레임 생성\n",
    "columns_to_display = ['매물위치(1)', '매물위치(2)', '매물위치(3)', '종류/장점', '제목', '상태', '가격', '면적', '방식', '참고', '조회수', '매물위치(url)']\n",
    "filtered_factories_to_display = filtered_factories[columns_to_display]\n",
    "\n",
    "# 필터링된 데이터가 있는지 확인\n",
    "if filtered_factories_to_display.empty:\n",
    "    print(\"현재 매물이 존재하지 않습니다. 선택한 지자체 관련된 모든 공장 데이터를 제공합니다.\")\n",
    "    filtered_factories = Factories[\n",
    "        (Factories['매물위치(1)'] == korean_name)\n",
    "    ]\n",
    "    filtered_factories_to_display = filtered_factories[columns_to_display]\n",
    "    \n",
    "# DataFrame을 Jupyter Notebook 내에서 보기 좋게 출력\n",
    "display(filtered_factories_to_display.style.set_properties(**{'text-align': 'left'}).set_table_styles({\n",
    "    '매물위치(1)': [{'selector': 'th', 'props': [('text-align', 'left')]}],\n",
    "    '매물위치(2)': [{'selector': 'th', 'props': [('text-align', 'left')]}],\n",
    "    '매물위치(3)': [{'selector': 'th', 'props': [('text-align', 'left')]}],\n",
    "    '종류/장점': [{'selector': 'th', 'props': [('text-align', 'left')]}],\n",
    "    '제목': [{'selector': 'th', 'props': [('text-align', 'left')]}],\n",
    "    '상태': [{'selector': 'th', 'props': [('text-align', 'left')]}],\n",
    "    '가격': [{'selector': 'th', 'props': [('text-align', 'left')]}],\n",
    "    '면적': [{'selector': 'th', 'props': [('text-align', 'left')]}],\n",
    "    '방식': [{'selector': 'th', 'props': [('text-align', 'left')]}],\n",
    "    '참고': [{'selector': 'th', 'props': [('text-align', 'left')]}],\n",
    "    '조회수': [{'selector': 'th', 'props': [('text-align', 'left')]}],\n",
    "    '매물위치(url)': [{'selector': 'th', 'props': [('text-align', 'left')]}]\n",
    "}))\n",
    "\n",
    "# 결과를 CSV 파일로 저장\n",
    "filtered_factories_to_display.to_csv(f'{korean_name}_{predicted_class}_filtered_factories.csv', index=False, encoding='cp949')"
   ]
  },
  {
   "cell_type": "code",
   "execution_count": 264,
   "metadata": {},
   "outputs": [
    {
     "name": "stdout",
     "output_type": "stream",
     "text": [
      "1.34.0\n"
     ]
    }
   ],
   "source": [
    "import openai\n",
    "print(openai.__version__)"
   ]
  },
  {
   "cell_type": "code",
   "execution_count": null,
   "metadata": {},
   "outputs": [],
   "source": []
  },
  {
   "cell_type": "code",
   "execution_count": null,
   "metadata": {},
   "outputs": [],
   "source": []
  }
 ],
 "metadata": {
  "kernelspec": {
   "display_name": "base",
   "language": "python",
   "name": "python3"
  },
  "language_info": {
   "codemirror_mode": {
    "name": "ipython",
    "version": 3
   },
   "file_extension": ".py",
   "mimetype": "text/x-python",
   "name": "python",
   "nbconvert_exporter": "python",
   "pygments_lexer": "ipython3",
   "version": "3.11.7"
  },
  "orig_nbformat": 4
 },
 "nbformat": 4,
 "nbformat_minor": 2
}
