{
 "cells": [
  {
   "cell_type": "code",
   "execution_count": 6,
   "metadata": {},
   "outputs": [],
   "source": [
    "import requests\n",
    "from bs4 import BeautifulSoup\n",
    "import pandas as pd\n",
    "import re\n",
    "import time\n",
    "import random\n",
    "import csv\n"
   ]
  },
  {
   "cell_type": "code",
   "execution_count": 7,
   "metadata": {},
   "outputs": [],
   "source": [
    "#user-agent경우 구글링으로 구해면 됌\n",
    "user_agent_list = [\"Mozilla/5.0 (Windows NT 10.0; Win64; x64) AppleWebKit/537.36 (KHTML, like Gecko) Chrome/42.0.2311.135 Safari/537.36 Edge/12.246\",\n",
    "\"Mozilla/5.0 (X11; CrOS x86_64 8172.45.0) AppleWebKit/537.36 (KHTML, like Gecko) Chrome/51.0.2704.64 Safari/537.36\",\n",
    "\"Mozilla/5.0 (Macintosh; Intel Mac OS X 10_11_2) AppleWebKit/601.3.9 (KHTML, like Gecko) Version/9.0.2 Safari/601.3.9\",\n",
    "\"Mozilla/5.0 (Windows NT 6.1; WOW64) AppleWebKit/537.36 (KHTML, like Gecko) Chrome/47.0.2526.111 Safari/537.36\",\n",
    "\"Mozilla/5.0 (X11; Ubuntu; Linux x86_64; rv:15.0) Gecko/20100101 Firefox/15.0.1\",\n",
    "\"Mozilla/5.0 (Windows NT 10.0; Win64; x64) AppleWebKit/537.36 (KHTML, like Gecko) Chrome/99.0.4844.84 Safari/537.36\",\n",
    "\"Mozilla/5.0 (Windows NT 10.0; Win64; x64) AppleWebKit/537.36 (KHTML, like Gecko) Chrome/100.0.4896.75 Safari/537.36 Edg/99.0.1150.36\",\n",
    "\"Mozilla/5.0 (Windows NT 10.0; WOW64; Trident/7.0; rv:11.0) like Gecko\",\n",
    "\"Mozilla/5.0 (Windows NT 10.0) AppleWebKit/537.36 (KHTML, like Gecko) Chrome/100.0.4896.75 Safari/537.36\",\n",
    "\"Mozilla/5.0 (Windows NT 10.0; Win64; x64; rv:99.0) Gecko/20100101 Firefox/99.0\"\n",
    "]"
   ]
  },
  {
   "cell_type": "code",
   "execution_count": 8,
   "metadata": {},
   "outputs": [],
   "source": [
    "pattern = r\"\\s{2,}\""
   ]
  },
  {
   "cell_type": "code",
   "execution_count": null,
   "metadata": {},
   "outputs": [],
   "source": [
    "with open('ppomppu.csv', 'w', newline='') as f:\n",
    "    csv_writer = csv.writer(f)\n",
    "    csv_writer.writerow(['title', 'link', 'date', 'view', 'content'])\n",
    "\n",
    "    for PAGE in range(1, 371):\n",
    "        print(f'page: {PAGE} is start')\n",
    "\n",
    "        headers = {'User-Agent': f'{random.choice(user_agent_list)}'} #여러 user-agent로 들어가기\n",
    "        url = f'https://www.ppomppu.co.kr/zboard/zboard.php?id=stock&page={PAGE}&divpage=50'\n",
    "        res = requests.get(url, headers=headers)\n",
    "\n",
    "        soup = BeautifulSoup(res.text, 'lxml')\n",
    "        rows = soup.find('table', {'id': 'revolution_main_table'}).find_all('tr', class_=['common-list0', 'common-list1'])#제목 가져오기\n",
    "\n",
    "        for row in rows:\n",
    "            try:\n",
    "                elem = row.select('td:nth-child(3) > a')[0] #select는 css 선택할 수 있음\n",
    "                #td:nth-child(3) > a: 테이블의 세 번째 셀<\"td\">선택. \"nth-child\"는 css선택자, 주어진 순번의 자식요소를 선택\n",
    "                #>a: 바로 위의 선택자로 선택된 요소의 직계 자식 중에서 <a>태그를 선택->href\n",
    "            except:\n",
    "                continue\n",
    "            title = elem.get_text(strip=True) #strip: 앞/뒤 공백, 개행문자, 택문자 제거\n",
    "            link = f'https://www.ppomppu.co.kr/zboard/{elem[\"href\"]}'\n",
    "\n",
    "            date = row.select('td:nth-child(4)')[0].get_text(strip=True) #tr에서 4번째 td\n",
    "            view = row.select('td:nth-child(6)')[0].get_text(strip=True) #tr에서 6번째 td\n",
    "\n",
    "            headers = {'User-Agent': f'{random.choice(user_agent_list)}'}\n",
    "            get_in_res = requests.get(link, headers=headers) #링크 요청, user-agent 줌 후 본문 사이트 접근\n",
    "\n",
    "            get_in_soup = BeautifulSoup(get_in_res.text, 'lxml')#들어간 본문안에서 HTML 긁어옴\n",
    "            try:\n",
    "                content = get_in_soup.find('td', {'class': 'board-contents'}).get_text(strip=True)\n",
    "                content = re.sub(pattern, ' ', content)\n",
    "                content = content.replace('\\n', ' ') #본문 전체 긁어오고 개행문자 제거\n",
    "            except:\n",
    "                content = None\n",
    "            csv_writer.writerow([title, link, date, view, content])\n",
    "            print(title, link, date, view, content)\n",
    "            \n",
    "\n",
    "\n"
   ]
  },
  {
   "cell_type": "code",
   "execution_count": 29,
   "metadata": {},
   "outputs": [],
   "source": []
  },
  {
   "cell_type": "code",
   "execution_count": 35,
   "metadata": {},
   "outputs": [],
   "source": []
  },
  {
   "cell_type": "code",
   "execution_count": null,
   "metadata": {},
   "outputs": [],
   "source": []
  }
 ],
 "metadata": {
  "kernelspec": {
   "display_name": "base",
   "language": "python",
   "name": "python3"
  },
  "language_info": {
   "codemirror_mode": {
    "name": "ipython",
    "version": 3
   },
   "file_extension": ".py",
   "mimetype": "text/x-python",
   "name": "python",
   "nbconvert_exporter": "python",
   "pygments_lexer": "ipython3",
   "version": "3.11.4"
  },
  "orig_nbformat": 4
 },
 "nbformat": 4,
 "nbformat_minor": 2
}
