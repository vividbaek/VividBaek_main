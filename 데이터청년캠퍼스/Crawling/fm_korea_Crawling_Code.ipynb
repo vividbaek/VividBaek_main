{
 "cells": [
  {
   "cell_type": "code",
   "execution_count": 8,
   "metadata": {},
   "outputs": [],
   "source": [
    "#selenium setting\n",
    "from selenium import webdriver\n",
    "from selenium.webdriver.chrome.options import Options\n",
    "from webdriver_manager.chrome import ChromeDriverManager\n",
    "from selenium.webdriver.common.keys import Keys\n",
    "import time\n",
    "import json\n",
    "from selenium.webdriver.common.by import By\n",
    "from selenium.webdriver.support.ui import WebDriverWait\n",
    "from selenium.webdriver.support import expected_conditions as EC\n",
    "import csv\n",
    "import re"
   ]
  },
  {
   "cell_type": "code",
   "execution_count": 9,
   "metadata": {},
   "outputs": [],
   "source": [
    "options = Options()\n",
    "options.add_argument('user-agent=Mozilla/5.0 (Windows NT 10.0; Win64; x64) AppleWebKit/537.36 (KHTML, like Gecko) Chrome/115.0.0.0 Safari/537.36')"
   ]
  },
  {
   "cell_type": "code",
   "execution_count": 10,
   "metadata": {},
   "outputs": [],
   "source": [
    "driver = webdriver.Chrome(options=options)"
   ]
  },
  {
   "cell_type": "code",
   "execution_count": 11,
   "metadata": {},
   "outputs": [],
   "source": [
    "driver.get('https://www.fmkorea.com/index.php?mid=stock&category=&search_keyword=&search_target=&sort_index=pop&order_type=desc&listStyle=list&page=1')"
   ]
  },
  {
   "cell_type": "code",
   "execution_count": 12,
   "metadata": {},
   "outputs": [],
   "source": [
    "pattern = r\"\\s{2,}\" \n",
    "#본문을 가져올 때, 의미없는 text를 제거하고 가져오기\n",
    "#/s: /s는 공백 문자를 나타냄. 공백, 탭, 줄바꿈 등을 포함\n",
    "#{2,} 앞의 문자나 그룹이 2번 이상 연속으로 반복될 때를 나타냄"
   ]
  },
  {
   "cell_type": "code",
   "execution_count": null,
   "metadata": {},
   "outputs": [],
   "source": [
    "with open('fm_korea_Crawling.csv', 'w', encoding='utf-8', newline='') as f:\n",
    "    csv_writer = csv.writer(f)\n",
    "    csv_writer.writerow(['탭','제목', '링크', '인기글 날짜', '조회수', '추천', '본문'])\n",
    "\n",
    "    for PAGE in range(1, 695):\n",
    "        print(f'Page {PAGE} is being scraped...')\n",
    "        \n",
    "        URL = f'https://www.fmkorea.com/index.php?mid=stock&category=&search_keyword=&search_target=&sort_index=pop&order_type=desc&listStyle=list&page={PAGE}'\n",
    "        driver.get(URL)\n",
    "\n",
    "        rows = driver.find_element(By.CLASS_NAME, 'bd_lst').find_element(By.TAG_NAME, 'tbody').find_elements(By.TAG_NAME, 'tr')[1:]\n",
    "        #class로 찾기가 쉽지 않음. bdlst 찾은 후 tbody찾고 tr 끝가지 찾기. 첫번째 tr은 class에 관한 설명이라 제외\n",
    "\n",
    "        if rows:\n",
    "            for row in rows: #tr 리스트들 중에서 순서대로 각 행 tr 확인하는 작업\n",
    "                try:\n",
    "                    tab = row.find_element(By.CLASS_NAME, 'cate').text.strip() #탭 가져오기\n",
    "                except:\n",
    "                    tab = None\n",
    "                try:\n",
    "                    title = row.find_element(By.CLASS_NAME, 'title').find_element(By.TAG_NAME, 'a').text.strip()#title 텍스트\n",
    "                except:\n",
    "                    title = None\n",
    "                try:\n",
    "                    link = row.find_element(By.CLASS_NAME, 'title').find_element(By.TAG_NAME, 'a').get_attribute('href')#링크 가져오기\n",
    "                except:\n",
    "                    link = None\n",
    "                try:\n",
    "                    date = row.find_element(By.CLASS_NAME, 'time').text.strip() #날짜\n",
    "                except:\n",
    "                    date = None\n",
    "                try:\n",
    "                    views = row.find_element(By.CLASS_NAME, 'm_no').text.strip()#조회수\n",
    "                except:\n",
    "                    views = None\n",
    "                try:\n",
    "                    likes = row.find_element(By.CLASS_NAME, 'm_no_voted').text.strip() #추천수\n",
    "                except:\n",
    "                    likes = None\n",
    "\n",
    "                new_tab_script = f\"window.open('{link}');\" #본문 들어가는 링크\n",
    "                driver.execute_script(new_tab_script) #본문 실행\n",
    "                time.sleep(3) \n",
    "                driver.switch_to.window(driver.window_handles[1]) #1본문 창 / 0은 헤드라인 창\n",
    "                try:\n",
    "                    content = WebDriverWait(driver, 20).until(\n",
    "                        EC.presence_of_element_located((By.TAG_NAME, 'article'))\n",
    "                    )\n",
    "                    content = content.text.strip() #article tag안에 있는 모든 text가져오기\n",
    "                    content = re.sub(pattern, ' ', content) #정규표현식을 사용하여 ' '로 대체하기 content text에서\n",
    "                    content = content.replace('\\n', ' ') #개행문자도 공백으로 변경\n",
    "\n",
    "                except:\n",
    "                    content = None\n",
    "\n",
    "                driver.close()\n",
    "                driver.switch_to.window(driver.window_handles[0]) #원래 창으로 돌아가기\n",
    "\n",
    "                csv_writer.writerow([tab, title, link, date, views, likes, content])#파일에 쓰기\n",
    "                print(tab, title, link, date, views, likes, content)#print문을 통하여 출력이 잘 되고 있는지 확인\n",
    "        \n",
    "\n",
    "\n"
   ]
  }
 ],
 "metadata": {
  "kernelspec": {
   "display_name": "Python 3",
   "language": "python",
   "name": "python3"
  },
  "language_info": {
   "codemirror_mode": {
    "name": "ipython",
    "version": 3
   },
   "file_extension": ".py",
   "mimetype": "text/x-python",
   "name": "python",
   "nbconvert_exporter": "python",
   "pygments_lexer": "ipython3",
   "version": "3.11.4"
  },
  "orig_nbformat": 4
 },
 "nbformat": 4,
 "nbformat_minor": 2
}
