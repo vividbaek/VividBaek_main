{
 "cells": [
  {
   "attachments": {},
   "cell_type": "markdown",
   "metadata": {},
   "source": [
    "# [최종] 실시간 급등 주식 확인 후, 뉴스 알려주는 slack bot"
   ]
  },
  {
   "cell_type": "code",
   "execution_count": 1,
   "metadata": {},
   "outputs": [],
   "source": [
    "import slack_sdk\n",
    "from selenium import webdriver\n",
    "from selenium.webdriver.common.by import By\n",
    "from selenium.webdriver.chrome.options import Options\n",
    "import schedule\n",
    "import time\n",
    "\n",
    "# 슬랙 토큰 및 클라이언트 초기화 \n",
    "slack_token = \"개인 슬랙 토큰을 입력해주세요\"\n",
    "client = slack_sdk.WebClient(token=slack_token)\n",
    "\n",
    "options = Options()\n",
    "options.add_argument(\"--headless\") \n",
    "\n",
    "def fetch_and_send_to_slack():\n",
    "    browser1 = webdriver.Chrome(options = options)\n",
    "    url1 = \"https://finance.naver.com/sise/sise_rise.naver\" #급등주 10개 추출\n",
    "    browser1.get(url1)\n",
    "\n",
    "    titles = browser1.find_elements(By.CLASS_NAME, 'tltle')\n",
    "    rises = browser1.find_elements(By.CLASS_NAME, 'tah.p11.red01')\n",
    "\n",
    "    stock_list = []\n",
    "    title_list = []\n",
    "    message = \"종목\\t\\t상승\\n\"\n",
    "    for title, rise in zip(titles[:10], rises[:10]):  # 종목 10개 가져옴\n",
    "        title_text = title.text\n",
    "        title_list.append(title_text)\n",
    "        rise_value = rise.text\n",
    "        stock = title.get_attribute('href')[-6:]  # 종목번호\n",
    "        stock_list.append(stock)\n",
    "        message += f\"{title_text}\\t\\t{rise_value}\\n\"\n",
    "    # browser1.close()\n",
    "\n",
    "    for stock, title in zip(stock_list, title_list):\n",
    "        browser2 = webdriver.Chrome(options = options)\n",
    "        url2 = f\"https://finance.naver.com/item/news.naver?code={stock}\" #급둥주 10개 추출한 데이터에서 각 뉴스 자료\n",
    "        browser2.get(url2)\n",
    "\n",
    "        iframe = browser2.find_element(By.ID, 'news_frame')\n",
    "        browser2.switch_to.frame(iframe)\n",
    "\n",
    "        news_titles = browser2.find_elements(By.CLASS_NAME, \"tit\")\n",
    "        dates = browser2.find_elements(By.CLASS_NAME, \"date\")\n",
    "        message += \"---------------------------------------------------------------------------------------------\\n\"\n",
    "        message += f\"'{title}' 주요 뉴스\\n\\n제목\\t\\t\\t\\t\\t\\t\\t\\t날짜\\n\"\n",
    "        for news_title, date in zip(news_titles, dates):\n",
    "            title_text = news_title.text\n",
    "            date_text = date.text\n",
    "            message += f\"{title_text}\\t\\t\\t\\t{date_text}\\n\"\n",
    "\n",
    "        browser2.switch_to.default_content()\n",
    "        # browser2.close()\n",
    "\n",
    "    # 슬랙에 메시지 전송\n",
    "    client.chat_postMessage(channel='stock급등-알림', text=message)\n",
    "\n",
    "# 스케줄러 설정\n",
    "schedule.every(10).minutes.do(fetch_and_send_to_slack)\n",
    "\n",
    "# 스케줄러 루프\n",
    "while True:\n",
    "    schedule.run_pending()\n",
    "    time.sleep(1)\n"
   ]
  },
  {
   "attachments": {},
   "cell_type": "markdown",
   "metadata": {},
   "source": [
    "# 각각의 실행 과정 코드 "
   ]
  },
  {
   "attachments": {},
   "cell_type": "markdown",
   "metadata": {},
   "source": [
    "# 실시간 급등 종목 추출"
   ]
  },
  {
   "cell_type": "code",
   "execution_count": null,
   "metadata": {},
   "outputs": [],
   "source": [
    "from selenium import webdriver\n",
    "from selenium.webdriver.common.by import By\n",
    "from selenium.webdriver.support.ui import WebDriverWait\n",
    "from selenium.webdriver.support import expected_conditions as EC\n",
    "\n",
    "#종목 10개 가져옴\n",
    "count = 10 #종목 개수\n",
    "browser1 = webdriver.Chrome()\n",
    "\n",
    "url1 = \"https://finance.naver.com/sise/sise_rise.naver\"\n",
    "browser1.get(url1)\n",
    "\n",
    "titles = browser1.find_elements(By.CLASS_NAME, 'tltle')\n",
    "rises = browser1.find_elements(By.CLASS_NAME, 'tah.p11.red01')\n",
    "\n",
    "stock_list =[]\n",
    "title_list = []\n",
    "print(\"종목\\t\\t상승\")\n",
    "for title, rise in zip(titles[: count], rises[: count]):\n",
    "    title_text = title.text\n",
    "    title_list.append(title_text)\n",
    "    rise_value = rise.text\n",
    "    stock = title.get_attribute('href')[-6 :] #종목번호\n",
    "    stock_list.append(stock)\n",
    "    print(f\"{title_text}\\t\\t{rise_value}\")\n",
    "\n",
    "\n"
   ]
  },
  {
   "attachments": {},
   "cell_type": "markdown",
   "metadata": {},
   "source": [
    "#bs4로 보니 class='tit'이 보이지 않음 -> iframe으로 되어 있음"
   ]
  },
  {
   "attachments": {},
   "cell_type": "markdown",
   "metadata": {},
   "source": [
    "# 실시간 급등 주식 뉴스가져오기"
   ]
  },
  {
   "cell_type": "code",
   "execution_count": null,
   "metadata": {},
   "outputs": [],
   "source": [
    "for stock, title in zip(stock_list, title_list):    \n",
    "    browser2 = webdriver.Chrome()\n",
    "    url2 = f\"https://finance.naver.com/item/news.naver?code={stock}\"\n",
    "    browser2.get(url2)\n",
    "\n",
    "    # id가 'news_frame'인 iframe 찾기\n",
    "    iframe = browser2.find_element(By.ID, 'news_frame')\n",
    "\n",
    "    # iframe으로 컨텍스트 전환\n",
    "    browser2.switch_to.frame(iframe)\n",
    "\n",
    "    # iframe 내에서 필요한 작업 수행\n",
    "    # 예: iframe 내의 모든 텍스트를 출력\n",
    "    titles = browser2.find_elements(By.CLASS_NAME, \"tit\")\n",
    "    dates = browser2.find_elements(By.CLASS_NAME, \"date\")\n",
    "    print(\"---------------------------------------------------------------------------------------------\")\n",
    "    print(f\"{title} 주요 뉴스\")\n",
    "    print()\n",
    "    print(\"제목\\t\\t\\t\\t\\t\\t\\t\\t날짜\")\n",
    "    for title, date in zip(titles, dates):\n",
    "        title_text = title.text\n",
    "        date_text = date.text\n",
    "        print(f\"{title_text}\\t\\t\\t\\t{date_text}\")\n",
    "        \n",
    "    browser2.switch_to.default_content()\n",
    "\n",
    "    browser2.close()"
   ]
  },
  {
   "attachments": {},
   "cell_type": "markdown",
   "metadata": {},
   "source": [
    "# slack API연동 방법"
   ]
  },
  {
   "cell_type": "code",
   "execution_count": null,
   "metadata": {},
   "outputs": [],
   "source": [
    "import slack_sdk\n",
    "\n",
    "#내 Bot User OAuth Token\n",
    "slack_token = \"개인 슬랙 토큰을 입력해주세요\"\n",
    "client = slack_sdk.WebClient(token = slack_token)\n",
    "\n",
    "client.chat_postMessage(channel = '일반', text = 'Hello world!')"
   ]
  }
 ],
 "metadata": {
  "kernelspec": {
   "display_name": "Python 3",
   "language": "python",
   "name": "python3"
  },
  "language_info": {
   "codemirror_mode": {
    "name": "ipython",
    "version": 3
   },
   "file_extension": ".py",
   "mimetype": "text/x-python",
   "name": "python",
   "nbconvert_exporter": "python",
   "pygments_lexer": "ipython3",
   "version": "3.7.9"
  },
  "orig_nbformat": 4
 },
 "nbformat": 4,
 "nbformat_minor": 2
}
